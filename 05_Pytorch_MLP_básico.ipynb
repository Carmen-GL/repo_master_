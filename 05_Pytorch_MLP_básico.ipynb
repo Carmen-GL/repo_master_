{
  "nbformat": 4,
  "nbformat_minor": 0,
  "metadata": {
    "accelerator": "GPU",
    "colab": {
      "name": "05-Pytorch-MLP_básico.ipynb",
      "provenance": [],
      "collapsed_sections": [
        "wdphVwCopeT5"
      ],
      "include_colab_link": true
    },
    "kernelspec": {
      "display_name": "Python 3",
      "language": "python",
      "name": "python3"
    },
    "language_info": {
      "codemirror_mode": {
        "name": "ipython",
        "version": 3
      },
      "file_extension": ".py",
      "mimetype": "text/x-python",
      "name": "python",
      "nbconvert_exporter": "python",
      "pygments_lexer": "ipython3",
      "version": "3.8.5"
    },
    "widgets": {
      "application/vnd.jupyter.widget-state+json": {
        "1ca5654256f143c390939b4d0058c945": {
          "model_module": "@jupyter-widgets/controls",
          "model_name": "HBoxModel",
          "model_module_version": "1.5.0",
          "state": {
            "_view_name": "HBoxView",
            "_dom_classes": [],
            "_model_name": "HBoxModel",
            "_view_module": "@jupyter-widgets/controls",
            "_model_module_version": "1.5.0",
            "_view_count": null,
            "_view_module_version": "1.5.0",
            "box_style": "",
            "layout": "IPY_MODEL_43881348c26d4b3fa8aee096b98c1660",
            "_model_module": "@jupyter-widgets/controls",
            "children": [
              "IPY_MODEL_2c12fa3333134eb49232cd648e246e49",
              "IPY_MODEL_4bcd166eac4b4c4d84a158ab84669d10",
              "IPY_MODEL_c71e30b27e8c411588e431238bbefa3a"
            ]
          }
        },
        "43881348c26d4b3fa8aee096b98c1660": {
          "model_module": "@jupyter-widgets/base",
          "model_name": "LayoutModel",
          "model_module_version": "1.2.0",
          "state": {
            "_view_name": "LayoutView",
            "grid_template_rows": null,
            "right": null,
            "justify_content": null,
            "_view_module": "@jupyter-widgets/base",
            "overflow": null,
            "_model_module_version": "1.2.0",
            "_view_count": null,
            "flex_flow": null,
            "width": null,
            "min_width": null,
            "border": null,
            "align_items": null,
            "bottom": null,
            "_model_module": "@jupyter-widgets/base",
            "top": null,
            "grid_column": null,
            "overflow_y": null,
            "overflow_x": null,
            "grid_auto_flow": null,
            "grid_area": null,
            "grid_template_columns": null,
            "flex": null,
            "_model_name": "LayoutModel",
            "justify_items": null,
            "grid_row": null,
            "max_height": null,
            "align_content": null,
            "visibility": null,
            "align_self": null,
            "height": null,
            "min_height": null,
            "padding": null,
            "grid_auto_rows": null,
            "grid_gap": null,
            "max_width": null,
            "order": null,
            "_view_module_version": "1.2.0",
            "grid_template_areas": null,
            "object_position": null,
            "object_fit": null,
            "grid_auto_columns": null,
            "margin": null,
            "display": null,
            "left": null
          }
        },
        "2c12fa3333134eb49232cd648e246e49": {
          "model_module": "@jupyter-widgets/controls",
          "model_name": "HTMLModel",
          "model_module_version": "1.5.0",
          "state": {
            "_view_name": "HTMLView",
            "style": "IPY_MODEL_5b305bbfd7f94fe8af3ac002366be261",
            "_dom_classes": [],
            "description": "",
            "_model_name": "HTMLModel",
            "placeholder": "​",
            "_view_module": "@jupyter-widgets/controls",
            "_model_module_version": "1.5.0",
            "value": "",
            "_view_count": null,
            "_view_module_version": "1.5.0",
            "description_tooltip": null,
            "_model_module": "@jupyter-widgets/controls",
            "layout": "IPY_MODEL_af003964ab3d49d0b12c6206e818238b"
          }
        },
        "4bcd166eac4b4c4d84a158ab84669d10": {
          "model_module": "@jupyter-widgets/controls",
          "model_name": "FloatProgressModel",
          "model_module_version": "1.5.0",
          "state": {
            "_view_name": "ProgressView",
            "style": "IPY_MODEL_cb8badad518b4466bd513f1e27908f7e",
            "_dom_classes": [],
            "description": "",
            "_model_name": "FloatProgressModel",
            "bar_style": "success",
            "max": 9912422,
            "_view_module": "@jupyter-widgets/controls",
            "_model_module_version": "1.5.0",
            "value": 9912422,
            "_view_count": null,
            "_view_module_version": "1.5.0",
            "orientation": "horizontal",
            "min": 0,
            "description_tooltip": null,
            "_model_module": "@jupyter-widgets/controls",
            "layout": "IPY_MODEL_fd554e73f85b4464abfd8e85702ca765"
          }
        },
        "c71e30b27e8c411588e431238bbefa3a": {
          "model_module": "@jupyter-widgets/controls",
          "model_name": "HTMLModel",
          "model_module_version": "1.5.0",
          "state": {
            "_view_name": "HTMLView",
            "style": "IPY_MODEL_206bb376c1a04f939479d9636582954d",
            "_dom_classes": [],
            "description": "",
            "_model_name": "HTMLModel",
            "placeholder": "​",
            "_view_module": "@jupyter-widgets/controls",
            "_model_module_version": "1.5.0",
            "value": " 9913344/? [00:00&lt;00:00, 21358521.62it/s]",
            "_view_count": null,
            "_view_module_version": "1.5.0",
            "description_tooltip": null,
            "_model_module": "@jupyter-widgets/controls",
            "layout": "IPY_MODEL_8420137de6e441f4b8cd79246a6f5bf7"
          }
        },
        "5b305bbfd7f94fe8af3ac002366be261": {
          "model_module": "@jupyter-widgets/controls",
          "model_name": "DescriptionStyleModel",
          "model_module_version": "1.5.0",
          "state": {
            "_view_name": "StyleView",
            "_model_name": "DescriptionStyleModel",
            "description_width": "",
            "_view_module": "@jupyter-widgets/base",
            "_model_module_version": "1.5.0",
            "_view_count": null,
            "_view_module_version": "1.2.0",
            "_model_module": "@jupyter-widgets/controls"
          }
        },
        "af003964ab3d49d0b12c6206e818238b": {
          "model_module": "@jupyter-widgets/base",
          "model_name": "LayoutModel",
          "model_module_version": "1.2.0",
          "state": {
            "_view_name": "LayoutView",
            "grid_template_rows": null,
            "right": null,
            "justify_content": null,
            "_view_module": "@jupyter-widgets/base",
            "overflow": null,
            "_model_module_version": "1.2.0",
            "_view_count": null,
            "flex_flow": null,
            "width": null,
            "min_width": null,
            "border": null,
            "align_items": null,
            "bottom": null,
            "_model_module": "@jupyter-widgets/base",
            "top": null,
            "grid_column": null,
            "overflow_y": null,
            "overflow_x": null,
            "grid_auto_flow": null,
            "grid_area": null,
            "grid_template_columns": null,
            "flex": null,
            "_model_name": "LayoutModel",
            "justify_items": null,
            "grid_row": null,
            "max_height": null,
            "align_content": null,
            "visibility": null,
            "align_self": null,
            "height": null,
            "min_height": null,
            "padding": null,
            "grid_auto_rows": null,
            "grid_gap": null,
            "max_width": null,
            "order": null,
            "_view_module_version": "1.2.0",
            "grid_template_areas": null,
            "object_position": null,
            "object_fit": null,
            "grid_auto_columns": null,
            "margin": null,
            "display": null,
            "left": null
          }
        },
        "cb8badad518b4466bd513f1e27908f7e": {
          "model_module": "@jupyter-widgets/controls",
          "model_name": "ProgressStyleModel",
          "model_module_version": "1.5.0",
          "state": {
            "_view_name": "StyleView",
            "_model_name": "ProgressStyleModel",
            "description_width": "",
            "_view_module": "@jupyter-widgets/base",
            "_model_module_version": "1.5.0",
            "_view_count": null,
            "_view_module_version": "1.2.0",
            "bar_color": null,
            "_model_module": "@jupyter-widgets/controls"
          }
        },
        "fd554e73f85b4464abfd8e85702ca765": {
          "model_module": "@jupyter-widgets/base",
          "model_name": "LayoutModel",
          "model_module_version": "1.2.0",
          "state": {
            "_view_name": "LayoutView",
            "grid_template_rows": null,
            "right": null,
            "justify_content": null,
            "_view_module": "@jupyter-widgets/base",
            "overflow": null,
            "_model_module_version": "1.2.0",
            "_view_count": null,
            "flex_flow": null,
            "width": null,
            "min_width": null,
            "border": null,
            "align_items": null,
            "bottom": null,
            "_model_module": "@jupyter-widgets/base",
            "top": null,
            "grid_column": null,
            "overflow_y": null,
            "overflow_x": null,
            "grid_auto_flow": null,
            "grid_area": null,
            "grid_template_columns": null,
            "flex": null,
            "_model_name": "LayoutModel",
            "justify_items": null,
            "grid_row": null,
            "max_height": null,
            "align_content": null,
            "visibility": null,
            "align_self": null,
            "height": null,
            "min_height": null,
            "padding": null,
            "grid_auto_rows": null,
            "grid_gap": null,
            "max_width": null,
            "order": null,
            "_view_module_version": "1.2.0",
            "grid_template_areas": null,
            "object_position": null,
            "object_fit": null,
            "grid_auto_columns": null,
            "margin": null,
            "display": null,
            "left": null
          }
        },
        "206bb376c1a04f939479d9636582954d": {
          "model_module": "@jupyter-widgets/controls",
          "model_name": "DescriptionStyleModel",
          "model_module_version": "1.5.0",
          "state": {
            "_view_name": "StyleView",
            "_model_name": "DescriptionStyleModel",
            "description_width": "",
            "_view_module": "@jupyter-widgets/base",
            "_model_module_version": "1.5.0",
            "_view_count": null,
            "_view_module_version": "1.2.0",
            "_model_module": "@jupyter-widgets/controls"
          }
        },
        "8420137de6e441f4b8cd79246a6f5bf7": {
          "model_module": "@jupyter-widgets/base",
          "model_name": "LayoutModel",
          "model_module_version": "1.2.0",
          "state": {
            "_view_name": "LayoutView",
            "grid_template_rows": null,
            "right": null,
            "justify_content": null,
            "_view_module": "@jupyter-widgets/base",
            "overflow": null,
            "_model_module_version": "1.2.0",
            "_view_count": null,
            "flex_flow": null,
            "width": null,
            "min_width": null,
            "border": null,
            "align_items": null,
            "bottom": null,
            "_model_module": "@jupyter-widgets/base",
            "top": null,
            "grid_column": null,
            "overflow_y": null,
            "overflow_x": null,
            "grid_auto_flow": null,
            "grid_area": null,
            "grid_template_columns": null,
            "flex": null,
            "_model_name": "LayoutModel",
            "justify_items": null,
            "grid_row": null,
            "max_height": null,
            "align_content": null,
            "visibility": null,
            "align_self": null,
            "height": null,
            "min_height": null,
            "padding": null,
            "grid_auto_rows": null,
            "grid_gap": null,
            "max_width": null,
            "order": null,
            "_view_module_version": "1.2.0",
            "grid_template_areas": null,
            "object_position": null,
            "object_fit": null,
            "grid_auto_columns": null,
            "margin": null,
            "display": null,
            "left": null
          }
        },
        "3a83de53b6f8445d945d5c582c651394": {
          "model_module": "@jupyter-widgets/controls",
          "model_name": "HBoxModel",
          "model_module_version": "1.5.0",
          "state": {
            "_view_name": "HBoxView",
            "_dom_classes": [],
            "_model_name": "HBoxModel",
            "_view_module": "@jupyter-widgets/controls",
            "_model_module_version": "1.5.0",
            "_view_count": null,
            "_view_module_version": "1.5.0",
            "box_style": "",
            "layout": "IPY_MODEL_ebf1947632424ea0a1b7dc4f6743e3e6",
            "_model_module": "@jupyter-widgets/controls",
            "children": [
              "IPY_MODEL_9d8f8036a5ac4f898ce8c485da8c00b6",
              "IPY_MODEL_de9917f8b1fa4fadb4ffca6706fafcda",
              "IPY_MODEL_e1b7200d1a774f0cb05d69aa3d90ee21"
            ]
          }
        },
        "ebf1947632424ea0a1b7dc4f6743e3e6": {
          "model_module": "@jupyter-widgets/base",
          "model_name": "LayoutModel",
          "model_module_version": "1.2.0",
          "state": {
            "_view_name": "LayoutView",
            "grid_template_rows": null,
            "right": null,
            "justify_content": null,
            "_view_module": "@jupyter-widgets/base",
            "overflow": null,
            "_model_module_version": "1.2.0",
            "_view_count": null,
            "flex_flow": null,
            "width": null,
            "min_width": null,
            "border": null,
            "align_items": null,
            "bottom": null,
            "_model_module": "@jupyter-widgets/base",
            "top": null,
            "grid_column": null,
            "overflow_y": null,
            "overflow_x": null,
            "grid_auto_flow": null,
            "grid_area": null,
            "grid_template_columns": null,
            "flex": null,
            "_model_name": "LayoutModel",
            "justify_items": null,
            "grid_row": null,
            "max_height": null,
            "align_content": null,
            "visibility": null,
            "align_self": null,
            "height": null,
            "min_height": null,
            "padding": null,
            "grid_auto_rows": null,
            "grid_gap": null,
            "max_width": null,
            "order": null,
            "_view_module_version": "1.2.0",
            "grid_template_areas": null,
            "object_position": null,
            "object_fit": null,
            "grid_auto_columns": null,
            "margin": null,
            "display": null,
            "left": null
          }
        },
        "9d8f8036a5ac4f898ce8c485da8c00b6": {
          "model_module": "@jupyter-widgets/controls",
          "model_name": "HTMLModel",
          "model_module_version": "1.5.0",
          "state": {
            "_view_name": "HTMLView",
            "style": "IPY_MODEL_85221509aa504e2a82e2568dd99e06e7",
            "_dom_classes": [],
            "description": "",
            "_model_name": "HTMLModel",
            "placeholder": "​",
            "_view_module": "@jupyter-widgets/controls",
            "_model_module_version": "1.5.0",
            "value": "",
            "_view_count": null,
            "_view_module_version": "1.5.0",
            "description_tooltip": null,
            "_model_module": "@jupyter-widgets/controls",
            "layout": "IPY_MODEL_e094541a116c43b28cbdd946c1c1357e"
          }
        },
        "de9917f8b1fa4fadb4ffca6706fafcda": {
          "model_module": "@jupyter-widgets/controls",
          "model_name": "FloatProgressModel",
          "model_module_version": "1.5.0",
          "state": {
            "_view_name": "ProgressView",
            "style": "IPY_MODEL_719211ea82ca43c39462897442c36764",
            "_dom_classes": [],
            "description": "",
            "_model_name": "FloatProgressModel",
            "bar_style": "success",
            "max": 28881,
            "_view_module": "@jupyter-widgets/controls",
            "_model_module_version": "1.5.0",
            "value": 28881,
            "_view_count": null,
            "_view_module_version": "1.5.0",
            "orientation": "horizontal",
            "min": 0,
            "description_tooltip": null,
            "_model_module": "@jupyter-widgets/controls",
            "layout": "IPY_MODEL_bbd3ed7e9567422d9b51010efb072b5a"
          }
        },
        "e1b7200d1a774f0cb05d69aa3d90ee21": {
          "model_module": "@jupyter-widgets/controls",
          "model_name": "HTMLModel",
          "model_module_version": "1.5.0",
          "state": {
            "_view_name": "HTMLView",
            "style": "IPY_MODEL_c25483eb88f94d5dbd5167fe6e4486d2",
            "_dom_classes": [],
            "description": "",
            "_model_name": "HTMLModel",
            "placeholder": "​",
            "_view_module": "@jupyter-widgets/controls",
            "_model_module_version": "1.5.0",
            "value": " 29696/? [00:00&lt;00:00, 752874.50it/s]",
            "_view_count": null,
            "_view_module_version": "1.5.0",
            "description_tooltip": null,
            "_model_module": "@jupyter-widgets/controls",
            "layout": "IPY_MODEL_5ffc0f3a6bf44997a2fb4fca3d13ecc2"
          }
        },
        "85221509aa504e2a82e2568dd99e06e7": {
          "model_module": "@jupyter-widgets/controls",
          "model_name": "DescriptionStyleModel",
          "model_module_version": "1.5.0",
          "state": {
            "_view_name": "StyleView",
            "_model_name": "DescriptionStyleModel",
            "description_width": "",
            "_view_module": "@jupyter-widgets/base",
            "_model_module_version": "1.5.0",
            "_view_count": null,
            "_view_module_version": "1.2.0",
            "_model_module": "@jupyter-widgets/controls"
          }
        },
        "e094541a116c43b28cbdd946c1c1357e": {
          "model_module": "@jupyter-widgets/base",
          "model_name": "LayoutModel",
          "model_module_version": "1.2.0",
          "state": {
            "_view_name": "LayoutView",
            "grid_template_rows": null,
            "right": null,
            "justify_content": null,
            "_view_module": "@jupyter-widgets/base",
            "overflow": null,
            "_model_module_version": "1.2.0",
            "_view_count": null,
            "flex_flow": null,
            "width": null,
            "min_width": null,
            "border": null,
            "align_items": null,
            "bottom": null,
            "_model_module": "@jupyter-widgets/base",
            "top": null,
            "grid_column": null,
            "overflow_y": null,
            "overflow_x": null,
            "grid_auto_flow": null,
            "grid_area": null,
            "grid_template_columns": null,
            "flex": null,
            "_model_name": "LayoutModel",
            "justify_items": null,
            "grid_row": null,
            "max_height": null,
            "align_content": null,
            "visibility": null,
            "align_self": null,
            "height": null,
            "min_height": null,
            "padding": null,
            "grid_auto_rows": null,
            "grid_gap": null,
            "max_width": null,
            "order": null,
            "_view_module_version": "1.2.0",
            "grid_template_areas": null,
            "object_position": null,
            "object_fit": null,
            "grid_auto_columns": null,
            "margin": null,
            "display": null,
            "left": null
          }
        },
        "719211ea82ca43c39462897442c36764": {
          "model_module": "@jupyter-widgets/controls",
          "model_name": "ProgressStyleModel",
          "model_module_version": "1.5.0",
          "state": {
            "_view_name": "StyleView",
            "_model_name": "ProgressStyleModel",
            "description_width": "",
            "_view_module": "@jupyter-widgets/base",
            "_model_module_version": "1.5.0",
            "_view_count": null,
            "_view_module_version": "1.2.0",
            "bar_color": null,
            "_model_module": "@jupyter-widgets/controls"
          }
        },
        "bbd3ed7e9567422d9b51010efb072b5a": {
          "model_module": "@jupyter-widgets/base",
          "model_name": "LayoutModel",
          "model_module_version": "1.2.0",
          "state": {
            "_view_name": "LayoutView",
            "grid_template_rows": null,
            "right": null,
            "justify_content": null,
            "_view_module": "@jupyter-widgets/base",
            "overflow": null,
            "_model_module_version": "1.2.0",
            "_view_count": null,
            "flex_flow": null,
            "width": null,
            "min_width": null,
            "border": null,
            "align_items": null,
            "bottom": null,
            "_model_module": "@jupyter-widgets/base",
            "top": null,
            "grid_column": null,
            "overflow_y": null,
            "overflow_x": null,
            "grid_auto_flow": null,
            "grid_area": null,
            "grid_template_columns": null,
            "flex": null,
            "_model_name": "LayoutModel",
            "justify_items": null,
            "grid_row": null,
            "max_height": null,
            "align_content": null,
            "visibility": null,
            "align_self": null,
            "height": null,
            "min_height": null,
            "padding": null,
            "grid_auto_rows": null,
            "grid_gap": null,
            "max_width": null,
            "order": null,
            "_view_module_version": "1.2.0",
            "grid_template_areas": null,
            "object_position": null,
            "object_fit": null,
            "grid_auto_columns": null,
            "margin": null,
            "display": null,
            "left": null
          }
        },
        "c25483eb88f94d5dbd5167fe6e4486d2": {
          "model_module": "@jupyter-widgets/controls",
          "model_name": "DescriptionStyleModel",
          "model_module_version": "1.5.0",
          "state": {
            "_view_name": "StyleView",
            "_model_name": "DescriptionStyleModel",
            "description_width": "",
            "_view_module": "@jupyter-widgets/base",
            "_model_module_version": "1.5.0",
            "_view_count": null,
            "_view_module_version": "1.2.0",
            "_model_module": "@jupyter-widgets/controls"
          }
        },
        "5ffc0f3a6bf44997a2fb4fca3d13ecc2": {
          "model_module": "@jupyter-widgets/base",
          "model_name": "LayoutModel",
          "model_module_version": "1.2.0",
          "state": {
            "_view_name": "LayoutView",
            "grid_template_rows": null,
            "right": null,
            "justify_content": null,
            "_view_module": "@jupyter-widgets/base",
            "overflow": null,
            "_model_module_version": "1.2.0",
            "_view_count": null,
            "flex_flow": null,
            "width": null,
            "min_width": null,
            "border": null,
            "align_items": null,
            "bottom": null,
            "_model_module": "@jupyter-widgets/base",
            "top": null,
            "grid_column": null,
            "overflow_y": null,
            "overflow_x": null,
            "grid_auto_flow": null,
            "grid_area": null,
            "grid_template_columns": null,
            "flex": null,
            "_model_name": "LayoutModel",
            "justify_items": null,
            "grid_row": null,
            "max_height": null,
            "align_content": null,
            "visibility": null,
            "align_self": null,
            "height": null,
            "min_height": null,
            "padding": null,
            "grid_auto_rows": null,
            "grid_gap": null,
            "max_width": null,
            "order": null,
            "_view_module_version": "1.2.0",
            "grid_template_areas": null,
            "object_position": null,
            "object_fit": null,
            "grid_auto_columns": null,
            "margin": null,
            "display": null,
            "left": null
          }
        },
        "ede7b5887246402dbdcc1957c1d8b663": {
          "model_module": "@jupyter-widgets/controls",
          "model_name": "HBoxModel",
          "model_module_version": "1.5.0",
          "state": {
            "_view_name": "HBoxView",
            "_dom_classes": [],
            "_model_name": "HBoxModel",
            "_view_module": "@jupyter-widgets/controls",
            "_model_module_version": "1.5.0",
            "_view_count": null,
            "_view_module_version": "1.5.0",
            "box_style": "",
            "layout": "IPY_MODEL_5736e9798ea54bfb87bc221b6a85f00d",
            "_model_module": "@jupyter-widgets/controls",
            "children": [
              "IPY_MODEL_d592026e18df4a1eaa3eff9d5069dc1f",
              "IPY_MODEL_e9eb94e8123c413298cc3a243ed373c8",
              "IPY_MODEL_9921399d7e034d17a583dfc744ab6db4"
            ]
          }
        },
        "5736e9798ea54bfb87bc221b6a85f00d": {
          "model_module": "@jupyter-widgets/base",
          "model_name": "LayoutModel",
          "model_module_version": "1.2.0",
          "state": {
            "_view_name": "LayoutView",
            "grid_template_rows": null,
            "right": null,
            "justify_content": null,
            "_view_module": "@jupyter-widgets/base",
            "overflow": null,
            "_model_module_version": "1.2.0",
            "_view_count": null,
            "flex_flow": null,
            "width": null,
            "min_width": null,
            "border": null,
            "align_items": null,
            "bottom": null,
            "_model_module": "@jupyter-widgets/base",
            "top": null,
            "grid_column": null,
            "overflow_y": null,
            "overflow_x": null,
            "grid_auto_flow": null,
            "grid_area": null,
            "grid_template_columns": null,
            "flex": null,
            "_model_name": "LayoutModel",
            "justify_items": null,
            "grid_row": null,
            "max_height": null,
            "align_content": null,
            "visibility": null,
            "align_self": null,
            "height": null,
            "min_height": null,
            "padding": null,
            "grid_auto_rows": null,
            "grid_gap": null,
            "max_width": null,
            "order": null,
            "_view_module_version": "1.2.0",
            "grid_template_areas": null,
            "object_position": null,
            "object_fit": null,
            "grid_auto_columns": null,
            "margin": null,
            "display": null,
            "left": null
          }
        },
        "d592026e18df4a1eaa3eff9d5069dc1f": {
          "model_module": "@jupyter-widgets/controls",
          "model_name": "HTMLModel",
          "model_module_version": "1.5.0",
          "state": {
            "_view_name": "HTMLView",
            "style": "IPY_MODEL_0f462a75356d46cb8863146ff5ec131c",
            "_dom_classes": [],
            "description": "",
            "_model_name": "HTMLModel",
            "placeholder": "​",
            "_view_module": "@jupyter-widgets/controls",
            "_model_module_version": "1.5.0",
            "value": "",
            "_view_count": null,
            "_view_module_version": "1.5.0",
            "description_tooltip": null,
            "_model_module": "@jupyter-widgets/controls",
            "layout": "IPY_MODEL_d13f46476e7d49ddbf434838cb7529cb"
          }
        },
        "e9eb94e8123c413298cc3a243ed373c8": {
          "model_module": "@jupyter-widgets/controls",
          "model_name": "FloatProgressModel",
          "model_module_version": "1.5.0",
          "state": {
            "_view_name": "ProgressView",
            "style": "IPY_MODEL_e2ea3eab2b634b7db8540728b6f2f434",
            "_dom_classes": [],
            "description": "",
            "_model_name": "FloatProgressModel",
            "bar_style": "success",
            "max": 1648877,
            "_view_module": "@jupyter-widgets/controls",
            "_model_module_version": "1.5.0",
            "value": 1648877,
            "_view_count": null,
            "_view_module_version": "1.5.0",
            "orientation": "horizontal",
            "min": 0,
            "description_tooltip": null,
            "_model_module": "@jupyter-widgets/controls",
            "layout": "IPY_MODEL_9b0104b8301141b88aff5741020986b2"
          }
        },
        "9921399d7e034d17a583dfc744ab6db4": {
          "model_module": "@jupyter-widgets/controls",
          "model_name": "HTMLModel",
          "model_module_version": "1.5.0",
          "state": {
            "_view_name": "HTMLView",
            "style": "IPY_MODEL_e8148e7aa8b346babb2baff8d00afaee",
            "_dom_classes": [],
            "description": "",
            "_model_name": "HTMLModel",
            "placeholder": "​",
            "_view_module": "@jupyter-widgets/controls",
            "_model_module_version": "1.5.0",
            "value": " 1649664/? [00:00&lt;00:00, 17049610.58it/s]",
            "_view_count": null,
            "_view_module_version": "1.5.0",
            "description_tooltip": null,
            "_model_module": "@jupyter-widgets/controls",
            "layout": "IPY_MODEL_5b7b3b2c75cd42259fc525cd8946fb49"
          }
        },
        "0f462a75356d46cb8863146ff5ec131c": {
          "model_module": "@jupyter-widgets/controls",
          "model_name": "DescriptionStyleModel",
          "model_module_version": "1.5.0",
          "state": {
            "_view_name": "StyleView",
            "_model_name": "DescriptionStyleModel",
            "description_width": "",
            "_view_module": "@jupyter-widgets/base",
            "_model_module_version": "1.5.0",
            "_view_count": null,
            "_view_module_version": "1.2.0",
            "_model_module": "@jupyter-widgets/controls"
          }
        },
        "d13f46476e7d49ddbf434838cb7529cb": {
          "model_module": "@jupyter-widgets/base",
          "model_name": "LayoutModel",
          "model_module_version": "1.2.0",
          "state": {
            "_view_name": "LayoutView",
            "grid_template_rows": null,
            "right": null,
            "justify_content": null,
            "_view_module": "@jupyter-widgets/base",
            "overflow": null,
            "_model_module_version": "1.2.0",
            "_view_count": null,
            "flex_flow": null,
            "width": null,
            "min_width": null,
            "border": null,
            "align_items": null,
            "bottom": null,
            "_model_module": "@jupyter-widgets/base",
            "top": null,
            "grid_column": null,
            "overflow_y": null,
            "overflow_x": null,
            "grid_auto_flow": null,
            "grid_area": null,
            "grid_template_columns": null,
            "flex": null,
            "_model_name": "LayoutModel",
            "justify_items": null,
            "grid_row": null,
            "max_height": null,
            "align_content": null,
            "visibility": null,
            "align_self": null,
            "height": null,
            "min_height": null,
            "padding": null,
            "grid_auto_rows": null,
            "grid_gap": null,
            "max_width": null,
            "order": null,
            "_view_module_version": "1.2.0",
            "grid_template_areas": null,
            "object_position": null,
            "object_fit": null,
            "grid_auto_columns": null,
            "margin": null,
            "display": null,
            "left": null
          }
        },
        "e2ea3eab2b634b7db8540728b6f2f434": {
          "model_module": "@jupyter-widgets/controls",
          "model_name": "ProgressStyleModel",
          "model_module_version": "1.5.0",
          "state": {
            "_view_name": "StyleView",
            "_model_name": "ProgressStyleModel",
            "description_width": "",
            "_view_module": "@jupyter-widgets/base",
            "_model_module_version": "1.5.0",
            "_view_count": null,
            "_view_module_version": "1.2.0",
            "bar_color": null,
            "_model_module": "@jupyter-widgets/controls"
          }
        },
        "9b0104b8301141b88aff5741020986b2": {
          "model_module": "@jupyter-widgets/base",
          "model_name": "LayoutModel",
          "model_module_version": "1.2.0",
          "state": {
            "_view_name": "LayoutView",
            "grid_template_rows": null,
            "right": null,
            "justify_content": null,
            "_view_module": "@jupyter-widgets/base",
            "overflow": null,
            "_model_module_version": "1.2.0",
            "_view_count": null,
            "flex_flow": null,
            "width": null,
            "min_width": null,
            "border": null,
            "align_items": null,
            "bottom": null,
            "_model_module": "@jupyter-widgets/base",
            "top": null,
            "grid_column": null,
            "overflow_y": null,
            "overflow_x": null,
            "grid_auto_flow": null,
            "grid_area": null,
            "grid_template_columns": null,
            "flex": null,
            "_model_name": "LayoutModel",
            "justify_items": null,
            "grid_row": null,
            "max_height": null,
            "align_content": null,
            "visibility": null,
            "align_self": null,
            "height": null,
            "min_height": null,
            "padding": null,
            "grid_auto_rows": null,
            "grid_gap": null,
            "max_width": null,
            "order": null,
            "_view_module_version": "1.2.0",
            "grid_template_areas": null,
            "object_position": null,
            "object_fit": null,
            "grid_auto_columns": null,
            "margin": null,
            "display": null,
            "left": null
          }
        },
        "e8148e7aa8b346babb2baff8d00afaee": {
          "model_module": "@jupyter-widgets/controls",
          "model_name": "DescriptionStyleModel",
          "model_module_version": "1.5.0",
          "state": {
            "_view_name": "StyleView",
            "_model_name": "DescriptionStyleModel",
            "description_width": "",
            "_view_module": "@jupyter-widgets/base",
            "_model_module_version": "1.5.0",
            "_view_count": null,
            "_view_module_version": "1.2.0",
            "_model_module": "@jupyter-widgets/controls"
          }
        },
        "5b7b3b2c75cd42259fc525cd8946fb49": {
          "model_module": "@jupyter-widgets/base",
          "model_name": "LayoutModel",
          "model_module_version": "1.2.0",
          "state": {
            "_view_name": "LayoutView",
            "grid_template_rows": null,
            "right": null,
            "justify_content": null,
            "_view_module": "@jupyter-widgets/base",
            "overflow": null,
            "_model_module_version": "1.2.0",
            "_view_count": null,
            "flex_flow": null,
            "width": null,
            "min_width": null,
            "border": null,
            "align_items": null,
            "bottom": null,
            "_model_module": "@jupyter-widgets/base",
            "top": null,
            "grid_column": null,
            "overflow_y": null,
            "overflow_x": null,
            "grid_auto_flow": null,
            "grid_area": null,
            "grid_template_columns": null,
            "flex": null,
            "_model_name": "LayoutModel",
            "justify_items": null,
            "grid_row": null,
            "max_height": null,
            "align_content": null,
            "visibility": null,
            "align_self": null,
            "height": null,
            "min_height": null,
            "padding": null,
            "grid_auto_rows": null,
            "grid_gap": null,
            "max_width": null,
            "order": null,
            "_view_module_version": "1.2.0",
            "grid_template_areas": null,
            "object_position": null,
            "object_fit": null,
            "grid_auto_columns": null,
            "margin": null,
            "display": null,
            "left": null
          }
        },
        "20b7fee272ed4c58bd0fc588d707c3ad": {
          "model_module": "@jupyter-widgets/controls",
          "model_name": "HBoxModel",
          "model_module_version": "1.5.0",
          "state": {
            "_view_name": "HBoxView",
            "_dom_classes": [],
            "_model_name": "HBoxModel",
            "_view_module": "@jupyter-widgets/controls",
            "_model_module_version": "1.5.0",
            "_view_count": null,
            "_view_module_version": "1.5.0",
            "box_style": "",
            "layout": "IPY_MODEL_84d7090f343a4f0d8adf107076a94fc1",
            "_model_module": "@jupyter-widgets/controls",
            "children": [
              "IPY_MODEL_b31ad6f8e64b4f2380620fdebf9492ab",
              "IPY_MODEL_ec5500bbeca74108a6cd8173c1909c6a",
              "IPY_MODEL_6d3113eb07934f12bd11cc1c01e627f1"
            ]
          }
        },
        "84d7090f343a4f0d8adf107076a94fc1": {
          "model_module": "@jupyter-widgets/base",
          "model_name": "LayoutModel",
          "model_module_version": "1.2.0",
          "state": {
            "_view_name": "LayoutView",
            "grid_template_rows": null,
            "right": null,
            "justify_content": null,
            "_view_module": "@jupyter-widgets/base",
            "overflow": null,
            "_model_module_version": "1.2.0",
            "_view_count": null,
            "flex_flow": null,
            "width": null,
            "min_width": null,
            "border": null,
            "align_items": null,
            "bottom": null,
            "_model_module": "@jupyter-widgets/base",
            "top": null,
            "grid_column": null,
            "overflow_y": null,
            "overflow_x": null,
            "grid_auto_flow": null,
            "grid_area": null,
            "grid_template_columns": null,
            "flex": null,
            "_model_name": "LayoutModel",
            "justify_items": null,
            "grid_row": null,
            "max_height": null,
            "align_content": null,
            "visibility": null,
            "align_self": null,
            "height": null,
            "min_height": null,
            "padding": null,
            "grid_auto_rows": null,
            "grid_gap": null,
            "max_width": null,
            "order": null,
            "_view_module_version": "1.2.0",
            "grid_template_areas": null,
            "object_position": null,
            "object_fit": null,
            "grid_auto_columns": null,
            "margin": null,
            "display": null,
            "left": null
          }
        },
        "b31ad6f8e64b4f2380620fdebf9492ab": {
          "model_module": "@jupyter-widgets/controls",
          "model_name": "HTMLModel",
          "model_module_version": "1.5.0",
          "state": {
            "_view_name": "HTMLView",
            "style": "IPY_MODEL_bcb2b184d73f47fcb220f1865c74fbe4",
            "_dom_classes": [],
            "description": "",
            "_model_name": "HTMLModel",
            "placeholder": "​",
            "_view_module": "@jupyter-widgets/controls",
            "_model_module_version": "1.5.0",
            "value": "",
            "_view_count": null,
            "_view_module_version": "1.5.0",
            "description_tooltip": null,
            "_model_module": "@jupyter-widgets/controls",
            "layout": "IPY_MODEL_ea313500f81f421297dfad191e3a49cf"
          }
        },
        "ec5500bbeca74108a6cd8173c1909c6a": {
          "model_module": "@jupyter-widgets/controls",
          "model_name": "FloatProgressModel",
          "model_module_version": "1.5.0",
          "state": {
            "_view_name": "ProgressView",
            "style": "IPY_MODEL_af49d867e83c4775a006675760d11601",
            "_dom_classes": [],
            "description": "",
            "_model_name": "FloatProgressModel",
            "bar_style": "success",
            "max": 4542,
            "_view_module": "@jupyter-widgets/controls",
            "_model_module_version": "1.5.0",
            "value": 4542,
            "_view_count": null,
            "_view_module_version": "1.5.0",
            "orientation": "horizontal",
            "min": 0,
            "description_tooltip": null,
            "_model_module": "@jupyter-widgets/controls",
            "layout": "IPY_MODEL_d05000d97ece4174932ce1dbafc9dada"
          }
        },
        "6d3113eb07934f12bd11cc1c01e627f1": {
          "model_module": "@jupyter-widgets/controls",
          "model_name": "HTMLModel",
          "model_module_version": "1.5.0",
          "state": {
            "_view_name": "HTMLView",
            "style": "IPY_MODEL_1bc377be18284793a8866876428deee6",
            "_dom_classes": [],
            "description": "",
            "_model_name": "HTMLModel",
            "placeholder": "​",
            "_view_module": "@jupyter-widgets/controls",
            "_model_module_version": "1.5.0",
            "value": " 5120/? [00:00&lt;00:00, 124413.19it/s]",
            "_view_count": null,
            "_view_module_version": "1.5.0",
            "description_tooltip": null,
            "_model_module": "@jupyter-widgets/controls",
            "layout": "IPY_MODEL_f4c90d0d480f4f4295f69b76b1a5ec8d"
          }
        },
        "bcb2b184d73f47fcb220f1865c74fbe4": {
          "model_module": "@jupyter-widgets/controls",
          "model_name": "DescriptionStyleModel",
          "model_module_version": "1.5.0",
          "state": {
            "_view_name": "StyleView",
            "_model_name": "DescriptionStyleModel",
            "description_width": "",
            "_view_module": "@jupyter-widgets/base",
            "_model_module_version": "1.5.0",
            "_view_count": null,
            "_view_module_version": "1.2.0",
            "_model_module": "@jupyter-widgets/controls"
          }
        },
        "ea313500f81f421297dfad191e3a49cf": {
          "model_module": "@jupyter-widgets/base",
          "model_name": "LayoutModel",
          "model_module_version": "1.2.0",
          "state": {
            "_view_name": "LayoutView",
            "grid_template_rows": null,
            "right": null,
            "justify_content": null,
            "_view_module": "@jupyter-widgets/base",
            "overflow": null,
            "_model_module_version": "1.2.0",
            "_view_count": null,
            "flex_flow": null,
            "width": null,
            "min_width": null,
            "border": null,
            "align_items": null,
            "bottom": null,
            "_model_module": "@jupyter-widgets/base",
            "top": null,
            "grid_column": null,
            "overflow_y": null,
            "overflow_x": null,
            "grid_auto_flow": null,
            "grid_area": null,
            "grid_template_columns": null,
            "flex": null,
            "_model_name": "LayoutModel",
            "justify_items": null,
            "grid_row": null,
            "max_height": null,
            "align_content": null,
            "visibility": null,
            "align_self": null,
            "height": null,
            "min_height": null,
            "padding": null,
            "grid_auto_rows": null,
            "grid_gap": null,
            "max_width": null,
            "order": null,
            "_view_module_version": "1.2.0",
            "grid_template_areas": null,
            "object_position": null,
            "object_fit": null,
            "grid_auto_columns": null,
            "margin": null,
            "display": null,
            "left": null
          }
        },
        "af49d867e83c4775a006675760d11601": {
          "model_module": "@jupyter-widgets/controls",
          "model_name": "ProgressStyleModel",
          "model_module_version": "1.5.0",
          "state": {
            "_view_name": "StyleView",
            "_model_name": "ProgressStyleModel",
            "description_width": "",
            "_view_module": "@jupyter-widgets/base",
            "_model_module_version": "1.5.0",
            "_view_count": null,
            "_view_module_version": "1.2.0",
            "bar_color": null,
            "_model_module": "@jupyter-widgets/controls"
          }
        },
        "d05000d97ece4174932ce1dbafc9dada": {
          "model_module": "@jupyter-widgets/base",
          "model_name": "LayoutModel",
          "model_module_version": "1.2.0",
          "state": {
            "_view_name": "LayoutView",
            "grid_template_rows": null,
            "right": null,
            "justify_content": null,
            "_view_module": "@jupyter-widgets/base",
            "overflow": null,
            "_model_module_version": "1.2.0",
            "_view_count": null,
            "flex_flow": null,
            "width": null,
            "min_width": null,
            "border": null,
            "align_items": null,
            "bottom": null,
            "_model_module": "@jupyter-widgets/base",
            "top": null,
            "grid_column": null,
            "overflow_y": null,
            "overflow_x": null,
            "grid_auto_flow": null,
            "grid_area": null,
            "grid_template_columns": null,
            "flex": null,
            "_model_name": "LayoutModel",
            "justify_items": null,
            "grid_row": null,
            "max_height": null,
            "align_content": null,
            "visibility": null,
            "align_self": null,
            "height": null,
            "min_height": null,
            "padding": null,
            "grid_auto_rows": null,
            "grid_gap": null,
            "max_width": null,
            "order": null,
            "_view_module_version": "1.2.0",
            "grid_template_areas": null,
            "object_position": null,
            "object_fit": null,
            "grid_auto_columns": null,
            "margin": null,
            "display": null,
            "left": null
          }
        },
        "1bc377be18284793a8866876428deee6": {
          "model_module": "@jupyter-widgets/controls",
          "model_name": "DescriptionStyleModel",
          "model_module_version": "1.5.0",
          "state": {
            "_view_name": "StyleView",
            "_model_name": "DescriptionStyleModel",
            "description_width": "",
            "_view_module": "@jupyter-widgets/base",
            "_model_module_version": "1.5.0",
            "_view_count": null,
            "_view_module_version": "1.2.0",
            "_model_module": "@jupyter-widgets/controls"
          }
        },
        "f4c90d0d480f4f4295f69b76b1a5ec8d": {
          "model_module": "@jupyter-widgets/base",
          "model_name": "LayoutModel",
          "model_module_version": "1.2.0",
          "state": {
            "_view_name": "LayoutView",
            "grid_template_rows": null,
            "right": null,
            "justify_content": null,
            "_view_module": "@jupyter-widgets/base",
            "overflow": null,
            "_model_module_version": "1.2.0",
            "_view_count": null,
            "flex_flow": null,
            "width": null,
            "min_width": null,
            "border": null,
            "align_items": null,
            "bottom": null,
            "_model_module": "@jupyter-widgets/base",
            "top": null,
            "grid_column": null,
            "overflow_y": null,
            "overflow_x": null,
            "grid_auto_flow": null,
            "grid_area": null,
            "grid_template_columns": null,
            "flex": null,
            "_model_name": "LayoutModel",
            "justify_items": null,
            "grid_row": null,
            "max_height": null,
            "align_content": null,
            "visibility": null,
            "align_self": null,
            "height": null,
            "min_height": null,
            "padding": null,
            "grid_auto_rows": null,
            "grid_gap": null,
            "max_width": null,
            "order": null,
            "_view_module_version": "1.2.0",
            "grid_template_areas": null,
            "object_position": null,
            "object_fit": null,
            "grid_auto_columns": null,
            "margin": null,
            "display": null,
            "left": null
          }
        }
      }
    }
  },
  "cells": [
    {
      "cell_type": "markdown",
      "metadata": {
        "id": "view-in-github",
        "colab_type": "text"
      },
      "source": [
        "<a href=\"https://colab.research.google.com/github/Carmen-GL/repo_master_/blob/main/05_Pytorch_MLP_b%C3%A1sico.ipynb\" target=\"_parent\"><img src=\"https://colab.research.google.com/assets/colab-badge.svg\" alt=\"Open In Colab\"/></a>"
      ]
    },
    {
      "cell_type": "markdown",
      "metadata": {
        "id": "ghPSdPkCrLyk"
      },
      "source": [
        "![IDAL](https://i.imgur.com/tIKXIG1.jpg)  \n",
        "\n",
        "#<strong>**Máster en Inteligencia Artificial Avanzada y Aplicada  IA^3**</strong>\n",
        "---\n"
      ]
    },
    {
      "cell_type": "markdown",
      "metadata": {
        "id": "t_QAY1dE1_93"
      },
      "source": [
        "##<center>**Preceptrón multicapa (_MLP_) con Pytorh** </center>"
      ]
    },
    {
      "cell_type": "markdown",
      "metadata": {
        "id": "zRMQYXirpeT5"
      },
      "source": [
        "En este notebook vamos a estudiar los siguientes aspectos:\n",
        " \n",
        " * Creación de una red neuronal con capas ocultas\n",
        " * Incorporación del uso de funciones de activación no lineales\n",
        " * Aprovechamiento del uso de GPU (si es posible) para acelerar el entrenamiento\n",
        " * Experimentar con hiperparámetros para mejorar el modelo. "
      ]
    },
    {
      "cell_type": "markdown",
      "metadata": {
        "id": "wdphVwCopeT5"
      },
      "source": [
        "### Usando GPU para entrenar más rápido\n",
        "\n",
        "Como ya sabemos, uno de los motivos del gran desarrollo y auge que estamos experimentando en el machine learning y especialmente en deep learning es debido a la posibilidad de aprovechar **GPU** [Graphics Processing Unit](https://en.wikipedia.org/wiki/Graphics_processing_unit)  para entrenar a los modelos de una forma mucho más rápida. \n",
        "Dependiendo de la plataforma que empleemos será conveniente seguir algunas instrucciones: \n",
        "* _Google Colab_: Usa el menu option \"Entorno de Ejecución > Cambiar tipo de entorno de Ejecucion\" y selecciona \"GPU\" del menu \"Acelerador por Hardware\".\n",
        "* _Kaggle Kernel_: En el menu de opciones de la barra superior (los tres puntos), selecciona \"GPU\" del menu \"Acelerador\"\n",
        "* _Linux_: Si tu equipo de sobremesa o portátil tiene una tarjeta NVIDIA GPU (graphics card), asegurate que tienes instalados los drivers correctos y actualizados [Linux NVIDIA CUDA drivers](https://docs.nvidia.com/cuda/cuda-installation-guide-linux/index.html).\n",
        "* _Windows_: Si tu equipo de sobremesa o portátil tiene una tarjeta NVIDIA GPU (graphics card), asegurate que tienes instalados los drivers correctos y actualizados [Windows NVIDIA CUDA drivers](https://docs.nvidia.com/cuda/cuda-installation-guide-microsoft-windows/index.html).\n",
        "* _macOS_: macOS no es compatible con NVIDIA GPUs\n",
        " \n",
        "Si no tienes acceso a GPU no es problema ya que este notebook se puede ejecutar igulmente en una CPU normal ;)"
      ]
    },
    {
      "cell_type": "markdown",
      "metadata": {
        "id": "h1N-aPtrpeT5"
      },
      "source": [
        "## Preparando los datos\n",
        "\n",
        "En el cuaderno anterior, estudiamos como podíamos entrenar un modelo de regresión logística para identificar números escritos a mano del MNIST dataset, obteniendo una precisión de en torno al 86%. Cada número era una imagen de 28x28 píxeles en escala de grises. Recordemos el aspecto que tenía el datasetHere are some sample images from the dataset:\n",
        "\n",
        "![mnist-sample](https://i.imgur.com/CAYnuo1.jpg)\n",
        "\n",
        "Ya vimos que es bastante dificil mejorar dicha precisión, a pesar de dedicar más entrenamiento y jugar con los parámetros, empleando simplemente una regresión logística. Esto es así porque el modelo que desarrollamos asume que hay una relación lineal entre las entradas (intensidades de píxeles) y la salida (el número que representan). Y esto puede (probablemente) no ser cierto. \n",
        "\n",
        "Vamos a desarrollar un nuevo modelo simple de red neuronal que va a ser capaz de capturar esas relaciones no lineales que nos faltan para mejorar el resultado con dicho dataset: un perceptrón multicapa básico. \n",
        "Empezamos importando los módulos y clases necesarios de `torch`, `torchvision`, `numpy`, y `matplotlib`."
      ]
    },
    {
      "cell_type": "code",
      "metadata": {
        "id": "28gVv8fbpeT5"
      },
      "source": [
        "# Si ejecutas el notebook de forma local, descomenta la linea que corresponda a tu sistema operativo para instalar las libreriás correspondientes\n",
        "\n",
        "# Linux / Binder\n",
        "# !pip install numpy matplotlib torch==1.7.0+cpu torchvision==0.8.1+cpu torchaudio==0.7.0 -f https://download.pytorch.org/whl/torch_stable.html\n",
        "\n",
        "# Windows\n",
        "# !pip install numpy matplotlib torch==1.7.0+cpu torchvision==0.8.1+cpu torchaudio==0.7.0 -f https://download.pytorch.org/whl/torch_stable.html\n",
        "\n",
        "# MacOS\n",
        "# !pip install numpy matplotlib torch torchvision torchaudio"
      ],
      "execution_count": null,
      "outputs": []
    },
    {
      "cell_type": "code",
      "metadata": {
        "id": "WapU423CpeT5"
      },
      "source": [
        "import torch\n",
        "import torchvision\n",
        "import numpy as np\n",
        "import matplotlib\n",
        "import matplotlib.pyplot as plt\n",
        "import torch.nn as nn\n",
        "import torch.nn.functional as F\n",
        "from torchvision.datasets import MNIST\n",
        "from torchvision.transforms import ToTensor\n",
        "from torchvision.utils import make_grid\n",
        "from torch.utils.data.dataloader import DataLoader\n",
        "from torch.utils.data import random_split\n",
        "%matplotlib inline\n",
        "\n",
        "# Fondo blanco para todas las figuras matplotlib \n",
        "matplotlib.rcParams['figure.facecolor'] = '#ffffff'"
      ],
      "execution_count": null,
      "outputs": []
    },
    {
      "cell_type": "markdown",
      "metadata": {
        "id": "wa8Y7hGhpeT5"
      },
      "source": [
        "Descargamos los datos y generamos un PyTorch dataset a partir de la clase` MNIST` de `torchvision.datasets`. "
      ]
    },
    {
      "cell_type": "code",
      "metadata": {
        "id": "CCfhGj-IpeT5",
        "colab": {
          "base_uri": "https://localhost:8080/",
          "height": 459,
          "referenced_widgets": [
            "1ca5654256f143c390939b4d0058c945",
            "43881348c26d4b3fa8aee096b98c1660",
            "2c12fa3333134eb49232cd648e246e49",
            "4bcd166eac4b4c4d84a158ab84669d10",
            "c71e30b27e8c411588e431238bbefa3a",
            "5b305bbfd7f94fe8af3ac002366be261",
            "af003964ab3d49d0b12c6206e818238b",
            "cb8badad518b4466bd513f1e27908f7e",
            "fd554e73f85b4464abfd8e85702ca765",
            "206bb376c1a04f939479d9636582954d",
            "8420137de6e441f4b8cd79246a6f5bf7",
            "3a83de53b6f8445d945d5c582c651394",
            "ebf1947632424ea0a1b7dc4f6743e3e6",
            "9d8f8036a5ac4f898ce8c485da8c00b6",
            "de9917f8b1fa4fadb4ffca6706fafcda",
            "e1b7200d1a774f0cb05d69aa3d90ee21",
            "85221509aa504e2a82e2568dd99e06e7",
            "e094541a116c43b28cbdd946c1c1357e",
            "719211ea82ca43c39462897442c36764",
            "bbd3ed7e9567422d9b51010efb072b5a",
            "c25483eb88f94d5dbd5167fe6e4486d2",
            "5ffc0f3a6bf44997a2fb4fca3d13ecc2",
            "ede7b5887246402dbdcc1957c1d8b663",
            "5736e9798ea54bfb87bc221b6a85f00d",
            "d592026e18df4a1eaa3eff9d5069dc1f",
            "e9eb94e8123c413298cc3a243ed373c8",
            "9921399d7e034d17a583dfc744ab6db4",
            "0f462a75356d46cb8863146ff5ec131c",
            "d13f46476e7d49ddbf434838cb7529cb",
            "e2ea3eab2b634b7db8540728b6f2f434",
            "9b0104b8301141b88aff5741020986b2",
            "e8148e7aa8b346babb2baff8d00afaee",
            "5b7b3b2c75cd42259fc525cd8946fb49",
            "20b7fee272ed4c58bd0fc588d707c3ad",
            "84d7090f343a4f0d8adf107076a94fc1",
            "b31ad6f8e64b4f2380620fdebf9492ab",
            "ec5500bbeca74108a6cd8173c1909c6a",
            "6d3113eb07934f12bd11cc1c01e627f1",
            "bcb2b184d73f47fcb220f1865c74fbe4",
            "ea313500f81f421297dfad191e3a49cf",
            "af49d867e83c4775a006675760d11601",
            "d05000d97ece4174932ce1dbafc9dada",
            "1bc377be18284793a8866876428deee6",
            "f4c90d0d480f4f4295f69b76b1a5ec8d"
          ]
        },
        "outputId": "8ab4d7cc-ecef-41f3-8227-4d86248ba71c"
      },
      "source": [
        "dataset = MNIST(root='data/', download=True, transform=ToTensor())"
      ],
      "execution_count": null,
      "outputs": [
        {
          "output_type": "stream",
          "name": "stdout",
          "text": [
            "Downloading http://yann.lecun.com/exdb/mnist/train-images-idx3-ubyte.gz\n",
            "Downloading http://yann.lecun.com/exdb/mnist/train-images-idx3-ubyte.gz to data/MNIST/raw/train-images-idx3-ubyte.gz\n"
          ]
        },
        {
          "output_type": "display_data",
          "data": {
            "application/vnd.jupyter.widget-view+json": {
              "model_id": "1ca5654256f143c390939b4d0058c945",
              "version_minor": 0,
              "version_major": 2
            },
            "text/plain": [
              "  0%|          | 0/9912422 [00:00<?, ?it/s]"
            ]
          },
          "metadata": {}
        },
        {
          "output_type": "stream",
          "name": "stdout",
          "text": [
            "Extracting data/MNIST/raw/train-images-idx3-ubyte.gz to data/MNIST/raw\n",
            "\n",
            "Downloading http://yann.lecun.com/exdb/mnist/train-labels-idx1-ubyte.gz\n",
            "Downloading http://yann.lecun.com/exdb/mnist/train-labels-idx1-ubyte.gz to data/MNIST/raw/train-labels-idx1-ubyte.gz\n"
          ]
        },
        {
          "output_type": "display_data",
          "data": {
            "application/vnd.jupyter.widget-view+json": {
              "model_id": "3a83de53b6f8445d945d5c582c651394",
              "version_minor": 0,
              "version_major": 2
            },
            "text/plain": [
              "  0%|          | 0/28881 [00:00<?, ?it/s]"
            ]
          },
          "metadata": {}
        },
        {
          "output_type": "stream",
          "name": "stdout",
          "text": [
            "Extracting data/MNIST/raw/train-labels-idx1-ubyte.gz to data/MNIST/raw\n",
            "\n",
            "Downloading http://yann.lecun.com/exdb/mnist/t10k-images-idx3-ubyte.gz\n",
            "Downloading http://yann.lecun.com/exdb/mnist/t10k-images-idx3-ubyte.gz to data/MNIST/raw/t10k-images-idx3-ubyte.gz\n"
          ]
        },
        {
          "output_type": "display_data",
          "data": {
            "application/vnd.jupyter.widget-view+json": {
              "model_id": "ede7b5887246402dbdcc1957c1d8b663",
              "version_minor": 0,
              "version_major": 2
            },
            "text/plain": [
              "  0%|          | 0/1648877 [00:00<?, ?it/s]"
            ]
          },
          "metadata": {}
        },
        {
          "output_type": "stream",
          "name": "stdout",
          "text": [
            "Extracting data/MNIST/raw/t10k-images-idx3-ubyte.gz to data/MNIST/raw\n",
            "\n",
            "Downloading http://yann.lecun.com/exdb/mnist/t10k-labels-idx1-ubyte.gz\n",
            "Downloading http://yann.lecun.com/exdb/mnist/t10k-labels-idx1-ubyte.gz to data/MNIST/raw/t10k-labels-idx1-ubyte.gz\n"
          ]
        },
        {
          "output_type": "display_data",
          "data": {
            "application/vnd.jupyter.widget-view+json": {
              "model_id": "20b7fee272ed4c58bd0fc588d707c3ad",
              "version_minor": 0,
              "version_major": 2
            },
            "text/plain": [
              "  0%|          | 0/4542 [00:00<?, ?it/s]"
            ]
          },
          "metadata": {}
        },
        {
          "output_type": "stream",
          "name": "stdout",
          "text": [
            "Extracting data/MNIST/raw/t10k-labels-idx1-ubyte.gz to data/MNIST/raw\n",
            "\n"
          ]
        }
      ]
    },
    {
      "cell_type": "markdown",
      "metadata": {
        "id": "s8PQeFW82eCZ"
      },
      "source": [
        "Vamos a visualizar algunas imágenes. Recordemos que las imagenes han sido convertidas a tensores Pytorch con la forma `1x28x28` (canales de color, ancho y alto). Podemos emplear el método `plt.imshow` para ver las imágenes."
      ]
    },
    {
      "cell_type": "code",
      "metadata": {
        "id": "EBrhzbQF2eCa",
        "colab": {
          "base_uri": "https://localhost:8080/",
          "height": 302
        },
        "outputId": "8fdb5cf1-7922-4b8b-dd59-408f42f5d5cf"
      },
      "source": [
        "image, label = dataset[230]\n",
        "print('image.shape:', image.shape)\n",
        "plt.imshow(image[0], cmap='gray')\n",
        "print('Label:', label)"
      ],
      "execution_count": null,
      "outputs": [
        {
          "output_type": "stream",
          "name": "stdout",
          "text": [
            "image.shape: torch.Size([1, 28, 28])\n",
            "Label: 7\n"
          ]
        },
        {
          "output_type": "display_data",
          "data": {
            "image/png": "[encoded data removed]",
            "text/plain": [
              "<Figure size 432x288 with 1 Axes>"
            ]
          },
          "metadata": {
            "needs_background": "light"
          }
        }
      ]
    },
    {
      "cell_type": "code",
      "metadata": {
        "id": "qE3SytuD2eCb",
        "colab": {
          "base_uri": "https://localhost:8080/",
          "height": 302
        },
        "outputId": "736e8d5f-96a2-44f1-abd2-b388b472f1a2"
      },
      "source": [
        "image, label = dataset[1000]\n",
        "print('image.shape:', image.shape)\n",
        "plt.imshow(image[0], cmap='gray')\n",
        "print('Label:', label)"
      ],
      "execution_count": null,
      "outputs": [
        {
          "output_type": "stream",
          "name": "stdout",
          "text": [
            "image.shape: torch.Size([1, 28, 28])\n",
            "Label: 0\n"
          ]
        },
        {
          "output_type": "display_data",
          "data": {
            "image/png": "[encoded data removed]",
            "text/plain": [
              "<Figure size 432x288 with 1 Axes>"
            ]
          },
          "metadata": {
            "needs_background": "light"
          }
        }
      ]
    },
    {
      "cell_type": "markdown",
      "metadata": {
        "id": "4vjwsyaDpeT5"
      },
      "source": [
        "Ahora empleamos el método `random_split` para \"apartar\" 10000 imagenes para nuestro conjunto de validación."
      ]
    },
    {
      "cell_type": "code",
      "metadata": {
        "id": "Cgek18qlpeT5",
        "colab": {
          "base_uri": "https://localhost:8080/"
        },
        "outputId": "bdc0fd4b-48c1-4504-f38a-903226cf5c96"
      },
      "source": [
        "val_size = 10000\n",
        "train_size = len(dataset) - val_size\n",
        "\n",
        "train_ds, val_ds = random_split(dataset, [train_size, val_size])\n",
        "len(train_ds), len(val_ds)"
      ],
      "execution_count": null,
      "outputs": [
        {
          "output_type": "execute_result",
          "data": {
            "text/plain": [
              "(50000, 10000)"
            ]
          },
          "metadata": {},
          "execution_count": 5
        }
      ]
    },
    {
      "cell_type": "markdown",
      "metadata": {
        "id": "PxB8SiaYpeT6"
      },
      "source": [
        "Y ahora creamos los PyTorch data loaders para entrenamiento y validación, teniendo en cuenta un tamaño de lote especificado."
      ]
    },
    {
      "cell_type": "code",
      "metadata": {
        "id": "cK_hoRYSpeT6"
      },
      "source": [
        "batch_size=128"
      ],
      "execution_count": null,
      "outputs": []
    },
    {
      "cell_type": "code",
      "metadata": {
        "id": "iShTOn-vpeT6"
      },
      "source": [
        "train_loader = DataLoader(train_ds, batch_size, shuffle=True, num_workers=2, pin_memory=True)\n",
        "val_loader = DataLoader(val_ds, batch_size*2, num_workers=2, pin_memory=True)"
      ],
      "execution_count": null,
      "outputs": []
    },
    {
      "cell_type": "code",
      "metadata": {
        "id": "qF5xCrJlZho2",
        "colab": {
          "base_uri": "https://localhost:8080/"
        },
        "outputId": "89eeedc3-9f29-48ab-a4a8-cab260291fd8"
      },
      "source": [
        "len(train_loader)\n"
      ],
      "execution_count": null,
      "outputs": [
        {
          "output_type": "execute_result",
          "data": {
            "text/plain": [
              "391"
            ]
          },
          "metadata": {},
          "execution_count": 8
        }
      ]
    },
    {
      "cell_type": "code",
      "source": [
        "len(val_loader)"
      ],
      "metadata": {
        "id": "fK4sAOEyMAWv",
        "colab": {
          "base_uri": "https://localhost:8080/"
        },
        "outputId": "49b2f276-f6fa-4240-a1b8-cc49d13523ad"
      },
      "execution_count": null,
      "outputs": [
        {
          "output_type": "execute_result",
          "data": {
            "text/plain": [
              "40"
            ]
          },
          "metadata": {},
          "execution_count": 9
        }
      ]
    },
    {
      "cell_type": "markdown",
      "metadata": {
        "id": "fjucG3lnpeT6"
      },
      "source": [
        "Observesen los argumentos`num_workers` and `pin_memory`? Intenta comprender que hacen consultando la documentación: https://pytorch.org/docs/stable/data.html .\n",
        "\n",
        "Vamos a visualizar un lote de datos en un formato de rejilla o través de la función  `make_grid` de `torchvision`. Empleamos el método `.permute` en el  tensor para mover los canales como la última dimensión, tal como espera `matplotlib`."
      ]
    },
    {
      "cell_type": "code",
      "metadata": {
        "id": "YshQj9srpeT6",
        "colab": {
          "base_uri": "https://localhost:8080/",
          "height": 446
        },
        "outputId": "1fcade58-7cbd-4a13-aa25-382717d1bc04"
      },
      "source": [
        "#_ es labels, pero aquí no nos interesa\n",
        "for images, _ in train_loader:\n",
        "    print('images.shape:', images.shape)\n",
        "    plt.figure(figsize=(16,8))\n",
        "    plt.axis('off')\n",
        "    plt.imshow(make_grid(images, nrow=16).permute((1, 2, 0))) #permute cambia las imágenes de posición\n",
        "    break"
      ],
      "execution_count": null,
      "outputs": [
        {
          "output_type": "stream",
          "name": "stdout",
          "text": [
            "images.shape: torch.Size([128, 1, 28, 28])\n"
          ]
        },
        {
          "output_type": "display_data",
          "data": {
            "image/png": "[encoded data removed]",
            "text/plain": [
              "<Figure size 1152x576 with 1 Axes>"
            ]
          },
          "metadata": {
            "needs_background": "light"
          }
        }
      ]
    },
    {
      "cell_type": "markdown",
      "metadata": {
        "id": "OKEjn2zvpeT6"
      },
      "source": [
        "## Capas ocultas, funciones de activación y No-linearidad\n",
        "\n",
        "Vamos a crear una red neuronal básica, con una _capa de entrada_, una _capa oculta_  y una _capa de salida_. La capa oculta incorporará una _función de activación_. \n",
        "Vamos a estudiar un ejemplo paso a paso de forma que podamos apreciar como el hecho de emplear capas ocultas y funciones de activación va apermitir capturar esas relaciones no lineales entre entradas y salidas\n",
        "\n",
        "Inicaialmente crearemos un lote de tensores de entrada. \"Extenderemos\" sus dimensiones de imagenes de `1x28x28` a vectores de longitud `784`, y los pasaremos a un objeto `nn.Linear`."
      ]
    },
    {
      "cell_type": "code",
      "metadata": {
        "id": "B5iPCdqEpeT6",
        "colab": {
          "base_uri": "https://localhost:8080/"
        },
        "outputId": "f48a7afa-8a5a-43af-d5e4-b85acb5277a3"
      },
      "source": [
        "#128 filas, 784 columnas. 128 entradas con 784 variables\n",
        "\n",
        "for images, labels in train_loader:\n",
        "    print('images.shape:', images.shape)\n",
        "    inputs = images.reshape(-1, 784)\n",
        "    print('inputs.shape:', inputs.shape)\n",
        "    break"
      ],
      "execution_count": null,
      "outputs": [
        {
          "output_type": "stream",
          "name": "stdout",
          "text": [
            "images.shape: torch.Size([128, 1, 28, 28])\n",
            "inputs.shape: torch.Size([128, 784])\n"
          ]
        }
      ]
    },
    {
      "cell_type": "markdown",
      "metadata": {
        "id": "mF__u2QfpeT6"
      },
      "source": [
        "Creamos el objeto `nn.Linear` que emplearemos como capa oculta (_hiden layer_). Adjudicamos un tamaño inicial de 32 neuronas a esta capa. Este número puede ser aumentado o disminuido y eso afectará a la capacidad de aprndizaje que puede desarrollar el modelo. "
      ]
    },
    {
      "cell_type": "code",
      "metadata": {
        "id": "6zXN1c4PpeT6"
      },
      "source": [
        "input_size = inputs.shape[-1] #para coger el último valor del tensor input shape\n",
        "hidden_size = 32 #número de neuronas que conectamos"
      ],
      "execution_count": null,
      "outputs": []
    },
    {
      "cell_type": "code",
      "source": [
        "input_size"
      ],
      "metadata": {
        "id": "s6cACsGAMhdt",
        "colab": {
          "base_uri": "https://localhost:8080/"
        },
        "outputId": "c5d50186-50c7-4b16-81fa-ef4e44ae4a3b"
      },
      "execution_count": null,
      "outputs": [
        {
          "output_type": "execute_result",
          "data": {
            "text/plain": [
              "784"
            ]
          },
          "metadata": {},
          "execution_count": 16
        }
      ]
    },
    {
      "cell_type": "code",
      "metadata": {
        "id": "oOAh7CLZpeT7"
      },
      "source": [
        "layer1 = nn.Linear(input_size, hidden_size)"
      ],
      "execution_count": null,
      "outputs": []
    },
    {
      "cell_type": "markdown",
      "metadata": {
        "id": "YzqPBDuypeT7"
      },
      "source": [
        "Las salidas intermedas las obtenemos pasando las entradas `inputs` a través de `layer1`."
      ]
    },
    {
      "cell_type": "code",
      "metadata": {
        "id": "zd0YcDIlcCKb",
        "colab": {
          "base_uri": "https://localhost:8080/"
        },
        "outputId": "dd82e687-660f-4192-fb65-0665c23489b0"
      },
      "source": [
        "inputs.shape"
      ],
      "execution_count": null,
      "outputs": [
        {
          "output_type": "execute_result",
          "data": {
            "text/plain": [
              "torch.Size([128, 784])"
            ]
          },
          "metadata": {},
          "execution_count": 18
        }
      ]
    },
    {
      "cell_type": "code",
      "metadata": {
        "id": "pD_FPxeipeT7",
        "colab": {
          "base_uri": "https://localhost:8080/"
        },
        "outputId": "fc192cf3-034b-4542-dd42-4cb899c6ccb6"
      },
      "source": [
        "layer1_outputs = layer1(inputs)\n",
        "print('layer1_outputs.shape:', layer1_outputs.shape)"
      ],
      "execution_count": null,
      "outputs": [
        {
          "output_type": "stream",
          "name": "stdout",
          "text": [
            "layer1_outputs.shape: torch.Size([128, 32])\n"
          ]
        }
      ]
    },
    {
      "cell_type": "markdown",
      "metadata": {
        "id": "PK-eA2QTpeT7"
      },
      "source": [
        "Observamos ahora que los vectores de las imagenes de tamaño 784 se han transformado en unos vectores intermedios de tamaño 32, a través de la multiplicación de matrices que se ha realizado entre la matriz de `inputs` con la atriz traspuesta de los pesos de `layer1`, a la cual se le añaden los sesgos _bias_. \n",
        "\n",
        "Podemos verificar estas operaciones realizandolas de forma manual y comparando los resultados con `torch.allclose`."
      ]
    },
    {
      "cell_type": "code",
      "metadata": {
        "id": "0dEnp5VjpeT7",
        "colab": {
          "base_uri": "https://localhost:8080/"
        },
        "outputId": "715dc767-0846-4804-8af4-abe63791b5ae"
      },
      "source": [
        "layer1_outputs_direct = inputs @ layer1.weight.t() + layer1.bias\n",
        "layer1_outputs_direct.shape"
      ],
      "execution_count": null,
      "outputs": [
        {
          "output_type": "execute_result",
          "data": {
            "text/plain": [
              "torch.Size([128, 32])"
            ]
          },
          "metadata": {},
          "execution_count": 25
        }
      ]
    },
    {
      "cell_type": "code",
      "metadata": {
        "id": "qtNl1q-M2eCj",
        "colab": {
          "base_uri": "https://localhost:8080/"
        },
        "outputId": "42406d9d-2308-4178-b618-2bcf578e5f82"
      },
      "source": [
        "#Comprobamos que no hay mucha distancia entre lo que obtenemos de layer1_outputs y layer1_outputs_direct\n",
        "torch.allclose(layer1_outputs, layer1_outputs_direct, 1e-3)"
      ],
      "execution_count": null,
      "outputs": [
        {
          "output_type": "execute_result",
          "data": {
            "text/plain": [
              "True"
            ]
          },
          "metadata": {},
          "execution_count": 26
        }
      ]
    },
    {
      "cell_type": "markdown",
      "metadata": {
        "id": "MW9IXDPtpeT7"
      },
      "source": [
        "Así pues, en este punto, `layer1_outputs` y las `inputs` tienen una relación lineal, i.e., cada elemento de `layer_outputs` es una suma ponderada de los valores de `inputs`. En concreto una suma de 728 valores ponderados por 728 coeficientes, para cada salida. Sin embargo, por más que entrenemos el modelo y reajustemos los pesos, `layer1` únicamente será capaz de capturar relaciones lineales entre `inputs` y `outputs`.\n",
        "\n",
        "<img src=\"https://i.imgur.com/inXsLuq.png\" width=\"360\">\n"
      ]
    },
    {
      "cell_type": "markdown",
      "metadata": {
        "id": "mPbk-p632eCj"
      },
      "source": [
        "Para mejorar esto, lo siguiente que vamos a hacer es emplear la función ReLU (_Rectified Linear Unit_) como función de activación para las salidas. Eta función tiene la fórmula `relu(x) = max(0,x)` i.e. simplemente reemplaza los valores negativos de un tensor dado por el valo 0. ReLU es una función no lineal, como podemos observar:\n",
        "\n",
        "<img src=\"https://i.imgur.com/yijV4xF.png\" width=\"420\">\n",
        "\n",
        "Emplearemos el método `F.relu` de `torch.nn.functional` para aplicar ReLU a los elementos de un tensor."
      ]
    },
    {
      "cell_type": "code",
      "metadata": {
        "id": "zHMpGUGRpeT7",
        "colab": {
          "base_uri": "https://localhost:8080/"
        },
        "outputId": "ec86208e-f91d-4a5a-a14c-c90b7c550e18"
      },
      "source": [
        "F.relu(torch.tensor([[1, -1, 0], \n",
        "                     [-0.1, .2, 3]]))"
      ],
      "execution_count": null,
      "outputs": [
        {
          "output_type": "execute_result",
          "data": {
            "text/plain": [
              "tensor([[1.0000, 0.0000, 0.0000],\n",
              "        [0.0000, 0.2000, 3.0000]])"
            ]
          },
          "metadata": {},
          "execution_count": 27
        }
      ]
    },
    {
      "cell_type": "markdown",
      "metadata": {
        "id": "Y0QIFoEopeT7"
      },
      "source": [
        "Aplicamos la función RELU a la salida `layer1_outputs` y verificamos que los valores negativos han sido reemplazados por 0:"
      ]
    },
    {
      "cell_type": "code",
      "metadata": {
        "id": "QqBj3KsnpeT7",
        "colab": {
          "base_uri": "https://localhost:8080/"
        },
        "outputId": "b89d3938-df94-424a-e148-66fb3fa2af23"
      },
      "source": [
        "relu_outputs = F.relu(layer1_outputs)\n",
        "print('min(layer1_outputs):', torch.min(layer1_outputs).item())\n",
        "print('min(relu_outputs):', torch.min(relu_outputs).item())"
      ],
      "execution_count": null,
      "outputs": [
        {
          "output_type": "stream",
          "name": "stdout",
          "text": [
            "min(layer1_outputs): -0.7604615688323975\n",
            "min(relu_outputs): 0.0\n"
          ]
        }
      ]
    },
    {
      "cell_type": "markdown",
      "metadata": {
        "id": "g42i491NpeT7"
      },
      "source": [
        "Al aplicar ahora esta función de activación no lineal, `relu_outputs` e `inputs` ya no tienen relación lineal. Nos referimos a ella como _función de activación_ porque en definitiva lo que estamos haciendo es que ciertas salidas se activen (aquellas con valores superiores a cero) mientras que las otras quedan inactivadas. \n",
        "\n",
        "Vamos a crear ahora la capa de salida que convertirá los vectores de longitud `hidden_size` en `relu_outputs` dentro de vectores de longitud 10, que es la longitud necesaria para nuestro modelo (hay 10 posibles etiquetas de salida)"
      ]
    },
    {
      "cell_type": "code",
      "metadata": {
        "id": "k1qY-KYzpeT7"
      },
      "source": [
        "output_size = 10\n",
        "layer2 = nn.Linear(hidden_size, output_size)"
      ],
      "execution_count": null,
      "outputs": []
    },
    {
      "cell_type": "code",
      "metadata": {
        "id": "D_DuKvL8peT7",
        "colab": {
          "base_uri": "https://localhost:8080/"
        },
        "outputId": "1a54e254-c214-4237-d7ad-4c0dcb4a417f"
      },
      "source": [
        "layer2_outputs = layer2(relu_outputs)\n",
        "print(layer2_outputs.shape)"
      ],
      "execution_count": null,
      "outputs": [
        {
          "output_type": "stream",
          "name": "stdout",
          "text": [
            "torch.Size([128, 10])\n"
          ]
        }
      ]
    },
    {
      "cell_type": "code",
      "metadata": {
        "id": "caxPuaS9dQhH",
        "colab": {
          "base_uri": "https://localhost:8080/"
        },
        "outputId": "680a70c8-9433-4f3c-bccb-bbc2eb970b95"
      },
      "source": [
        "inputs.shape"
      ],
      "execution_count": null,
      "outputs": [
        {
          "output_type": "execute_result",
          "data": {
            "text/plain": [
              "torch.Size([128, 784])"
            ]
          },
          "metadata": {},
          "execution_count": 31
        }
      ]
    },
    {
      "cell_type": "markdown",
      "metadata": {
        "id": "AikFPlJppeT7"
      },
      "source": [
        "Como es de esperar, `layer2_outputs` contiene un lote de vectores de tamaño  10. Ahora emplearemos esa salida para calcular el error empleando  `F.cross_entropy` y ajustando los pesos de las capas `layer1` y `layer2` por descenso de gradiente."
      ]
    },
    {
      "cell_type": "code",
      "metadata": {
        "id": "CQ_ArLNApeT7",
        "colab": {
          "base_uri": "https://localhost:8080/"
        },
        "outputId": "58e44da6-e324-4990-d4a9-bed5361a7e70"
      },
      "source": [
        "F.cross_entropy(layer2_outputs, labels)"
      ],
      "execution_count": null,
      "outputs": [
        {
          "output_type": "execute_result",
          "data": {
            "text/plain": [
              "tensor(2.3092, grad_fn=<NllLossBackward0>)"
            ]
          },
          "metadata": {},
          "execution_count": 32
        }
      ]
    },
    {
      "cell_type": "markdown",
      "metadata": {
        "id": "UazxyCKHpeT7"
      },
      "source": [
        "Así pues, nuestro modelo transforma las `inputs` a `layer2_outputs` aplicando una transformación lineal (a través de `layer1`), seguida de una activación no lineal (empleando `F.relu`), seguida a su vez de otra transformación lineal (a través de `layer2`). \n",
        "Podemos verificar esto recalculando la salida empleando únicamente operaciones básicas entre matrices."
      ]
    },
    {
      "cell_type": "code",
      "metadata": {
        "id": "vNQ2nPijpeT7"
      },
      "source": [
        "# Versión expandida de layer2(F.relu(layer1(inputs)))\n",
        "outputs = (F.relu(inputs @ layer1.weight.t() + layer1.bias)) @ layer2.weight.t() + layer2.bias"
      ],
      "execution_count": null,
      "outputs": []
    },
    {
      "cell_type": "code",
      "metadata": {
        "id": "4BgaRib-peT7",
        "colab": {
          "base_uri": "https://localhost:8080/"
        },
        "outputId": "e9fea1e7-8703-45f5-c329-cd39548d555a"
      },
      "source": [
        "torch.allclose(outputs, layer2_outputs, 1e-3)"
      ],
      "execution_count": null,
      "outputs": [
        {
          "output_type": "execute_result",
          "data": {
            "text/plain": [
              "True"
            ]
          },
          "metadata": {},
          "execution_count": 34
        }
      ]
    },
    {
      "cell_type": "markdown",
      "metadata": {
        "id": "ZLOjL89WpeT7"
      },
      "source": [
        "Podemos constatar que ahora `outputs` e `inputs` no tienen una relación lineal, debido a la introducción de la función `F.relu`. A medida que entrenamos el modelo y ajustamos los pesos de las capas `layer1` y `layer2`, conseguimos ahora capturar relaciones no lineales entre las imagenes y sus etiquetas. En otras palabras, al introducir la no linealidad hace que el modelo se vuelva más potente y más verátil. Por otro lado `hidden_size`, el tamaño de la capa oculta, no depende de las dimensiones de la entrada ni de las salidas. Podemos incrementarlo o reducirlo, reflejarlo en la mayr o menor cantidad de parámetros que se austarán en el interior del modelo. También podemos insertar otras capas ocultas y aplicar la misma fucnión de activación despues de cada una. \n",
        "\n",
        "El modelo que hemos planetado es una red neuronal mínima, también llamado perceptrón multicapa (_Multilayer Perceptron, MLP_). El MLP puede constar de más capas ocultas. De hecho, una red neuronal profunda es simplemente una red neuronal con 2 o más capas ocultas. El [Teorema de Aproximación Universal](http://neuralnetworksanddeeplearning.com/chap4.html) especifica que una red neuronal suficientemente larga y profunda, puede obtener cualquier función, i.e. que puede llegar a aprender relaciones extremadamente complejas entre entradas y salidas. \n",
        "\n",
        "Puede ser dificil imaginar como el simple proceso de multiplicar valores de entrada por matrices inicializadas aleatoriamente, aplicar una función básica no lineal muy simple y reajustando pesos repetidamente puede llevar a obtener los resultados que se consiguen en las aplicaciones de las redes neuronales. No obstante, hemos de tener en cuenta que las redes neuronales profundas a menudo contienen **millones de parámetros** que se recalculan y la combinación de todos ellos permite capturar esas relaciones complejas que un cerebro humano no alcanza a captar. \n"
      ]
    },
    {
      "cell_type": "markdown",
      "metadata": {
        "id": "l8dOeJyfpeT8"
      },
      "source": [
        "## Modelo\n",
        "\n",
        "Ahora estamos listos para definir nuestro modelo. Vamos a crear una red neuronal con una capa oculta, teniendo en cuanta las siguientes consideraciones:  \n",
        "\n",
        "* En lugar de emplear un único objeto `nn.Linear` para transformar cada lote de entradas (intensidades de pixel) en salidas (probabilidades para cada clase), vamos a emplear dos objetos `nn.Linear`. Cada uno de ellos será una capa llamada _layer_ en la red.\n",
        "\n",
        "* La primera capa (conocida como capa oculta o _hidden layer_) transforma la matriz de entrada de dimensiones `batch_size x 784` a una matriz intermedia de de forma `batch_size x hidden_size`. El parámetro `hidden_size` se configurará manualmente e indica la cantidad de elementos (neuronas) que ponemos en dicha capa oculta.\n",
        "\n",
        "* A continuación aplicamos la _función de activación_ a las salidas intermedias. \n",
        "\n",
        "* El resultado de la función de activación, que mantiene las dimensiones `batch_size x hidden_size`, es pasado a la segunda capa o capa de salida. Esta capa transforma dicha entrada a una matriz de tamaño `batch_size x 10`. Ahora podemos emplear las salidas obtenidas para calcular el error con respecto a salida correcta y ajustar (actualizar) los pesos empleando descenso de gradiente en un proceso que se llama _backpropagation_.\n",
        "\n",
        "Visualmente, el modelo quedará como se muestra a continuación. Es lo que se conoce como **arquitectura del modelo** y en redes mayores puede llegar a ser ectremadamente compleja.\n",
        "\n",
        "<img src=\"https://i.imgur.com/eN7FrpF.png\" width=\"480\">\n",
        "\n",
        "\n",
        "Para definir el modelo, vamos a extender la clase base `nn.Module` de PyTorch."
      ]
    },
    {
      "cell_type": "code",
      "metadata": {
        "id": "_fKPW6tSpeT8"
      },
      "source": [
        "class MnistModel(nn.Module):\n",
        "    \"\"\"MLP con 1 capa oculta\"\"\"\n",
        "    def __init__(self, in_size, hidden_size, out_size):\n",
        "        super().__init__()\n",
        "        # hidden layer\n",
        "        self.linear1 = nn.Linear(in_size, hidden_size)\n",
        "        # output layer\n",
        "        self.linear2 = nn.Linear(hidden_size, out_size)\n",
        "        \n",
        "    def forward(self, xb):\n",
        "        # Extendemos los tensores de las imagenes\n",
        "        xb = xb.view(xb.size(0), -1) #crea una lista de 128 (por el lote), más la dimensión que haga falta: 784 en este caso\n",
        "        # Salidas inteermedias\n",
        "        out = self.linear1(xb)\n",
        "        # Aplicamos función de activación\n",
        "        out = F.relu(out)\n",
        "        # Predicciones en la capa de salida\n",
        "        out = self.linear2(out)\n",
        "        return out\n",
        "       \n",
        "    def training_step(self, batch):\n",
        "        images, labels = batch \n",
        "        out = self(images)                  # Genera predicciones\n",
        "        loss = F.cross_entropy(out, labels) # Calcula loss\n",
        "        return loss\n",
        "    \n",
        "    def validation_step(self, batch):\n",
        "        images, labels = batch                #Sobre el lote de validación (calcula para cada lote)\n",
        "        out = self(images)                    # Genera predicciones\n",
        "        loss = F.cross_entropy(out, labels)   # Calcula loss\n",
        "        acc = accuracy(out, labels)           # Calcula accuracy\n",
        "        return {'val_loss': loss, 'val_acc': acc}\n",
        "\n",
        "    def validation_epoch_end(self, outputs):\n",
        "        batch_losses = [x['val_loss'] for x in outputs]\n",
        "        epoch_loss = torch.stack(batch_losses).mean()   # Combina losses, media de pérdida de todos los lotes\n",
        "        batch_accs = [x['val_acc'] for x in outputs]\n",
        "        epoch_acc = torch.stack(batch_accs).mean()      # Combina accuracies\n",
        "        return {'val_loss': epoch_loss.item(), 'val_acc': epoch_acc.item()}\n",
        "    \n",
        "    def epoch_end(self, epoch, result):\n",
        "        print(\"Epoch [{}], val_loss: {:.4f}, val_acc: {:.4f}\".format(epoch, result['val_loss'], result['val_acc']))"
      ],
      "execution_count": null,
      "outputs": []
    },
    {
      "cell_type": "markdown",
      "metadata": {
        "id": "haxQhrX1AFdt"
      },
      "source": [
        "De igual forma que en el ejemplo de regresión, además de especificar las capas del modelo, definimos otros metodos que nos resultarán útiles para el entrenamiento y control del proceso. "
      ]
    },
    {
      "cell_type": "markdown",
      "metadata": {
        "id": "DBRZFQcz2eCt"
      },
      "source": [
        "Vamos a preparar tambien una función que nos calcule la precisión del modelo para un lote dado de entradas. Esta función se llama `accuracy` y la empleamos en el método `validation_step` definido anteriormente."
      ]
    },
    {
      "cell_type": "code",
      "metadata": {
        "id": "ooA0PwVipeT8"
      },
      "source": [
        "def accuracy(outputs, labels):\n",
        "    _, preds = torch.max(outputs, dim=1)\n",
        "    return torch.tensor(torch.sum(preds == labels).item() / len(preds))"
      ],
      "execution_count": null,
      "outputs": []
    },
    {
      "cell_type": "markdown",
      "metadata": {
        "id": "4sSd532VpeT8"
      },
      "source": [
        "Creamos un modelo con una capa oculta de 32 elementos: "
      ]
    },
    {
      "cell_type": "code",
      "metadata": {
        "id": "beSRnIQTpeT8"
      },
      "source": [
        "#Parámetros\n",
        "input_size = 784\n",
        "hidden_size = 32 # Esto puede configurarse\n",
        "num_classes = 10"
      ],
      "execution_count": null,
      "outputs": []
    },
    {
      "cell_type": "code",
      "metadata": {
        "id": "IvSp6BFppeT8"
      },
      "source": [
        "model = MnistModel(input_size, hidden_size=hidden_size, out_size=num_classes)"
      ],
      "execution_count": null,
      "outputs": []
    },
    {
      "cell_type": "markdown",
      "metadata": {
        "id": "EtWfv0N9peT8"
      },
      "source": [
        "Comprobamos los parámetros del modelo y que concuerden en dimensiones. Tenemos matrices de pesos y matrices de biases:"
      ]
    },
    {
      "cell_type": "code",
      "metadata": {
        "id": "psecOJfZpeT8",
        "colab": {
          "base_uri": "https://localhost:8080/"
        },
        "outputId": "366c5f8c-e799-44c9-f9dd-f12577e8e532"
      },
      "source": [
        "for t in model.parameters():\n",
        "    print(t.shape)\n",
        "\n",
        "#Todos los parámetros: primera capa entrada de 784x32 neuronas + 32 biases + 32 parámetros x 10 neuronas + 10 biases."
      ],
      "execution_count": null,
      "outputs": [
        {
          "output_type": "stream",
          "name": "stdout",
          "text": [
            "torch.Size([32, 784])\n",
            "torch.Size([32])\n",
            "torch.Size([10, 32])\n",
            "torch.Size([10])\n"
          ]
        }
      ]
    },
    {
      "cell_type": "markdown",
      "metadata": {
        "id": "zeFGsljIpeT8"
      },
      "source": [
        "Probamos ahora a generar algunas salidas con el modelo y verificar que funciona. Tomamos el primer lote de 128 imagenes y las pasamos a través del modelo"
      ]
    },
    {
      "cell_type": "code",
      "metadata": {
        "id": "jajA6VFYpeT8",
        "colab": {
          "base_uri": "https://localhost:8080/"
        },
        "outputId": "690a1d7b-d956-4497-b708-c32af14015f3"
      },
      "source": [
        "for images, labels in train_loader:\n",
        "    outputs = model(images)\n",
        "    loss = F.cross_entropy(outputs, labels)\n",
        "    print('Loss:', loss.item())\n",
        "    break\n",
        "\n",
        "print('outputs.shape : ', outputs.shape)\n",
        "print('Sample outputs :\\n', outputs[:2].data)"
      ],
      "execution_count": null,
      "outputs": [
        {
          "output_type": "stream",
          "name": "stdout",
          "text": [
            "Loss: 2.296658515930176\n",
            "outputs.shape :  torch.Size([128, 10])\n",
            "Sample outputs :\n",
            " tensor([[ 0.2429,  0.1070, -0.1332,  0.0723, -0.0568,  0.1823,  0.0353, -0.1617,\n",
            "         -0.0885, -0.1110],\n",
            "        [ 0.2448,  0.0659, -0.1064,  0.0925,  0.0176,  0.1170,  0.1016, -0.0752,\n",
            "         -0.0313, -0.1001]])\n"
          ]
        }
      ]
    },
    {
      "cell_type": "markdown",
      "metadata": {
        "id": "vmw6iiTXpeT8"
      },
      "source": [
        "## Usando una GPU\n",
        "\n",
        "Según se va incrementando el tamaño de los modelos y los conjuntos de datos que empleamos se hace necesario aprovechar GPUs para entrenarlos en unos tiempos razonables. Las GPUs contienen cientos de núcleos optimizados para la realización de operaciónes con matrices de números de coma flotante muy rápido, siendo por tanto ideales para el entrenamiento de redes neuronales. \n",
        "\n",
        "Actualmente además, es posible emplear GPUs de forma libre y gratuita en plataformas como [Google Colab](https://colab.research.google.com/) y [Kaggle](https://www.kaggle.com/kernels) o bien alquilar máquinas y tiempos GPUs en servicios como [Google Cloud Platform](https://cloud.google.com/gpu/), [Amazon Web Services](https://docs.aws.amazon.com/dlami/latest/devguide/gpu.html), entre otros (y cada vez más)\n",
        "\n",
        "Para comprobar si tenemos disponible GPU para el cálculo y sus controladores están instalados emplearemos la función `torch.cuda.is_available`."
      ]
    },
    {
      "cell_type": "code",
      "metadata": {
        "id": "gt2Ve_cFpeT8",
        "colab": {
          "base_uri": "https://localhost:8080/"
        },
        "outputId": "b8d85d3b-227c-4b39-bc09-c805a0f3e1a2"
      },
      "source": [
        "torch.cuda.is_available()"
      ],
      "execution_count": null,
      "outputs": [
        {
          "output_type": "execute_result",
          "data": {
            "text/plain": [
              "True"
            ]
          },
          "metadata": {},
          "execution_count": 42
        }
      ]
    },
    {
      "cell_type": "markdown",
      "metadata": {
        "id": "S2ffHXrnpeT8"
      },
      "source": [
        "Podemos definir una función que realiza esa comprobación y configura el dispositivo para aprovechar la GPU cuando sea posible y cuando no, emplea la CPU: "
      ]
    },
    {
      "cell_type": "code",
      "metadata": {
        "id": "oY8kxA4tpeT8"
      },
      "source": [
        "def get_default_device():\n",
        "    \"\"\"Pick GPU if available, else CPU\"\"\"\n",
        "    if torch.cuda.is_available():\n",
        "        return torch.device('cuda')\n",
        "    else:\n",
        "        return torch.device('cpu')"
      ],
      "execution_count": null,
      "outputs": []
    },
    {
      "cell_type": "code",
      "metadata": {
        "id": "rgxTDAjtpeT8",
        "colab": {
          "base_uri": "https://localhost:8080/"
        },
        "outputId": "45642b37-2016-4007-e1ba-29372e86c688"
      },
      "source": [
        "device = get_default_device()\n",
        "device"
      ],
      "execution_count": null,
      "outputs": [
        {
          "output_type": "execute_result",
          "data": {
            "text/plain": [
              "device(type='cuda')"
            ]
          },
          "metadata": {},
          "execution_count": 44
        }
      ]
    },
    {
      "cell_type": "markdown",
      "metadata": {
        "id": "U58VabR4peT8"
      },
      "source": [
        "Ahora será necesario definir una función para mover los datos y el modelo al dispositivo (GPU o CPU) seleccionado."
      ]
    },
    {
      "cell_type": "code",
      "metadata": {
        "id": "qe39OMPmpeT8"
      },
      "source": [
        "def to_device(data, device):\n",
        "    \"\"\"Movemos los tensores al dispositivo\"\"\"\n",
        "    if isinstance(data, (list,tuple)):\n",
        "        return [to_device(x, device) for x in data]\n",
        "    return data.to(device, non_blocking=True)"
      ],
      "execution_count": null,
      "outputs": []
    },
    {
      "cell_type": "code",
      "metadata": {
        "id": "bdouJFtwpeT8",
        "colab": {
          "base_uri": "https://localhost:8080/"
        },
        "outputId": "fcfb7ccc-eb49-47f4-c87b-2b9ae74ec68a"
      },
      "source": [
        "for images, labels in train_loader:\n",
        "    print(images.shape)\n",
        "    images = to_device(images, device)\n",
        "    print(images.device)\n",
        "    break"
      ],
      "execution_count": null,
      "outputs": [
        {
          "output_type": "stream",
          "name": "stdout",
          "text": [
            "torch.Size([128, 1, 28, 28])\n",
            "cuda:0\n"
          ]
        }
      ]
    },
    {
      "cell_type": "markdown",
      "metadata": {
        "id": "SJ_ZM0pYHsVM"
      },
      "source": [
        "A través de las dos funciones anteriores, podemos hacer de forma general que automáticamente se seleccione el dispositivo correspondiente (GPU si se puede y si no CPU) y los datos se cargen en él. "
      ]
    },
    {
      "cell_type": "markdown",
      "metadata": {
        "id": "WiKbIzujpeT9"
      },
      "source": [
        "Finalmente, vamos a definir una clase que vamos a llamar `DeviceDataLoader` para encapsular (_wrapp_) nuestros lotes e ir enviandolos adecuadamente al dicpositivos seleccionado. En realidad no necesitamos extender ninguna clase existente de Pytorch para generar nuestro _data loader_. Todo lo que debemos hacer es definir un iterador `__iter__` que vaya tomando lotes y los envíe al dispostivo y un método `__len__` que obtenga el número de lotes."
      ]
    },
    {
      "cell_type": "code",
      "metadata": {
        "id": "Mncx5AEcpeT9"
      },
      "source": [
        "class DeviceDataLoader():\n",
        "    \"\"\"Encapsula un dataloader para mover los datos al dispositivo device\"\"\"\n",
        "    def __init__(self, dl, device):\n",
        "        self.dl = dl\n",
        "        self.device = device\n",
        "        \n",
        "    def __iter__(self):\n",
        "        \"\"\"Itera lotes de datos y los va enviando al device\"\"\"\n",
        "        for b in self.dl: \n",
        "            yield to_device(b, self.device)\n",
        "\n",
        "    def __len__(self):\n",
        "        \"\"\"Numero de lotes\"\"\"\n",
        "        return len(self.dl)"
      ],
      "execution_count": null,
      "outputs": []
    },
    {
      "cell_type": "markdown",
      "metadata": {
        "id": "RxwvU5eP4r76"
      },
      "source": [
        "La palabra clave `yield` Python se usa para crear una funcion generadora que se puede empleada en un bucle `for`, com ose ilustra en el ejemplo siguiente: "
      ]
    },
    {
      "cell_type": "code",
      "metadata": {
        "id": "7IeHPpx74slh",
        "colab": {
          "base_uri": "https://localhost:8080/"
        },
        "outputId": "30c9dc95-2011-4169-8689-9334ffcf66d9"
      },
      "source": [
        "def some_numbers():\n",
        "    yield 10\n",
        "    yield 20\n",
        "    yield 30\n",
        "\n",
        "for value in some_numbers():\n",
        "    print(value)"
      ],
      "execution_count": null,
      "outputs": [
        {
          "output_type": "stream",
          "name": "stdout",
          "text": [
            "10\n",
            "20\n",
            "30\n"
          ]
        }
      ]
    },
    {
      "cell_type": "markdown",
      "metadata": {
        "id": "9AM28h0ipeT9"
      },
      "source": [
        "Empleamos `DeviceDataLoader` para encapsular el envío de los datos por lotes al dispositivo que corresponda."
      ]
    },
    {
      "cell_type": "code",
      "metadata": {
        "id": "fwZdTIxgpeT9"
      },
      "source": [
        "train_loader = DeviceDataLoader(train_loader, device)\n",
        "val_loader = DeviceDataLoader(val_loader, device)"
      ],
      "execution_count": null,
      "outputs": []
    },
    {
      "cell_type": "markdown",
      "metadata": {
        "id": "Go0zbQTypeT9"
      },
      "source": [
        "Los tensores que se mueven a una GPU tienen una propiedad llamada `device` que es la palabra `cuda`. Podemos verificar esto revisando uno de los lotes con `val_loader`:"
      ]
    },
    {
      "cell_type": "code",
      "metadata": {
        "id": "ZdOfMdmxpeT9",
        "colab": {
          "base_uri": "https://localhost:8080/"
        },
        "outputId": "2b85a8cc-67ec-485a-c0c3-e0a29fbc06bb"
      },
      "source": [
        "for xb, yb in val_loader:\n",
        "    print('xb.device:', xb.device)\n",
        "    print('yb:', yb)\n",
        "    break"
      ],
      "execution_count": null,
      "outputs": [
        {
          "output_type": "stream",
          "name": "stdout",
          "text": [
            "xb.device: cuda:0\n",
            "yb: tensor([2, 4, 9, 4, 6, 7, 8, 7, 9, 0, 9, 8, 7, 7, 2, 5, 9, 9, 7, 0, 4, 2, 4, 0,\n",
            "        4, 0, 0, 9, 9, 1, 3, 4, 8, 3, 2, 1, 2, 7, 2, 0, 8, 0, 1, 7, 7, 5, 0, 1,\n",
            "        5, 8, 8, 2, 2, 1, 1, 2, 1, 1, 5, 9, 8, 8, 0, 7, 1, 9, 0, 2, 8, 7, 2, 7,\n",
            "        2, 1, 6, 1, 4, 8, 2, 6, 1, 9, 8, 4, 7, 2, 7, 9, 7, 9, 0, 0, 9, 1, 8, 8,\n",
            "        5, 2, 3, 8, 6, 1, 9, 5, 7, 5, 8, 1, 6, 8, 5, 1, 4, 4, 6, 2, 0, 6, 1, 3,\n",
            "        3, 8, 6, 8, 7, 8, 8, 7, 2, 1, 3, 2, 7, 8, 3, 0, 4, 1, 4, 3, 7, 6, 7, 1,\n",
            "        4, 6, 8, 7, 3, 6, 0, 9, 6, 8, 8, 0, 2, 2, 5, 8, 7, 2, 3, 3, 4, 5, 2, 4,\n",
            "        0, 6, 6, 6, 5, 3, 4, 2, 2, 8, 0, 2, 7, 4, 6, 6, 7, 2, 1, 3, 7, 2, 2, 7,\n",
            "        3, 1, 7, 4, 6, 9, 7, 0, 6, 2, 6, 7, 0, 8, 2, 8, 5, 2, 2, 3, 6, 9, 2, 5,\n",
            "        0, 3, 3, 6, 4, 1, 5, 3, 7, 3, 1, 2, 0, 8, 8, 8, 9, 8, 8, 8, 7, 1, 4, 1,\n",
            "        5, 9, 9, 0, 6, 6, 9, 8, 8, 0, 6, 1, 5, 0, 3, 2], device='cuda:0')\n"
          ]
        }
      ]
    },
    {
      "cell_type": "markdown",
      "metadata": {
        "id": "sfPhGrIRpeT9"
      },
      "source": [
        "## Entrenamiento\n",
        "\n",
        "Definiremos nuestras funciones `fit` and `evaluate` para entrenar el modelo, de forma similar al notebook anterior. \n",
        "Recordemos que estas funciones están planteadas para que sean independientes del modelo planteado (definido con la clase `MnistModel`), realizando los pasos generales para el ajuste del modelo, i.e., para cada lote realizamos entrenamiento, cálculo de error, calculo de gradientes, actualización de pesos, reset de gradientes, evaluación en validación y guardado de resultados en una lista (`history[]`)"
      ]
    },
    {
      "cell_type": "code",
      "metadata": {
        "id": "JRw6Zf0wpeT9"
      },
      "source": [
        "def evaluate(model, val_loader):\n",
        "    \"\"\"Evalua el rendimento del modelo en el  set de validacion\"\"\"\n",
        "    outputs = [model.validation_step(batch) for batch in val_loader]\n",
        "    return model.validation_epoch_end(outputs)\n",
        "\n",
        "def fit(epochs, lr, model, train_loader, val_loader, opt_func=torch.optim.SGD):\n",
        "    \"\"\"Entrena el modelo usando descenso de gradiente\"\"\"\n",
        "    history = []\n",
        "    optimizer = opt_func(model.parameters(), lr)\n",
        "    for epoch in range(epochs):\n",
        "        # Training Phase \n",
        "        for batch in train_loader:\n",
        "            loss = model.training_step(batch)\n",
        "            loss.backward()\n",
        "            optimizer.step()\n",
        "            optimizer.zero_grad()\n",
        "        # Validation phase\n",
        "        result = evaluate(model, val_loader)\n",
        "        model.epoch_end(epoch, result)\n",
        "        history.append(result)\n",
        "    return history"
      ],
      "execution_count": null,
      "outputs": []
    },
    {
      "cell_type": "markdown",
      "metadata": {
        "id": "JuWv6GKZpeT9"
      },
      "source": [
        "Antes de entrenar hemos de asegurarnos que tanto los datos como los parámetros del modelo (pesos y biases) están en el **mismo dispositivo** (CPU o GPU). Para ello podemos aprovechar la función deinida anteriormente `to_device`para mover los parámetros del modelo al dispositivo correcto:"
      ]
    },
    {
      "cell_type": "code",
      "metadata": {
        "id": "u1CyEQsJpeT9",
        "colab": {
          "base_uri": "https://localhost:8080/"
        },
        "outputId": "a4ca75f0-22d0-4402-f5c6-220e37ec3304"
      },
      "source": [
        "# Modelo (a GPU)\n",
        "model = MnistModel(input_size, hidden_size=hidden_size, out_size=num_classes)\n",
        "to_device(model, device)"
      ],
      "execution_count": null,
      "outputs": [
        {
          "output_type": "execute_result",
          "data": {
            "text/plain": [
              "MnistModel(\n",
              "  (linear1): Linear(in_features=784, out_features=32, bias=True)\n",
              "  (linear2): Linear(in_features=32, out_features=10, bias=True)\n",
              ")"
            ]
          },
          "metadata": {},
          "execution_count": 53
        }
      ]
    },
    {
      "cell_type": "markdown",
      "metadata": {
        "id": "9N_aE2GRpeT9"
      },
      "source": [
        "Veamos como lo hace el modelo con el conjunto de validacion"
      ]
    },
    {
      "cell_type": "code",
      "metadata": {
        "id": "bF_wEBAIpeT9",
        "colab": {
          "base_uri": "https://localhost:8080/"
        },
        "outputId": "d15ac50d-45d4-443a-b961-e7aa4d22ccca"
      },
      "source": [
        "history = [evaluate(model, val_loader)]\n",
        "history"
      ],
      "execution_count": null,
      "outputs": [
        {
          "output_type": "execute_result",
          "data": {
            "text/plain": [
              "[{'val_acc': 0.10312499850988388, 'val_loss': 2.3130879402160645}]"
            ]
          },
          "metadata": {},
          "execution_count": 54
        }
      ]
    },
    {
      "cell_type": "markdown",
      "metadata": {
        "id": "BU0tYFcPpeT9"
      },
      "source": [
        "La precisión inicial está en torno al 10%, lo cual como ya sabemos es lo esperable dado que tenemos 10 posibles salidas y hemos inicializado aleatoriamente los pesos y biases.\n",
        "\n",
        "Continuamos entrenando 5 ciclos _epochs_ más para ver el avance. Dado queestamos en una fase inicial, vamos a usar una tasa de aprendizaje relativamente alto de 0.5."
      ]
    },
    {
      "cell_type": "code",
      "metadata": {
        "id": "DE5_oVckpeT9",
        "colab": {
          "base_uri": "https://localhost:8080/"
        },
        "outputId": "45450dfb-0f31-4681-dd22-39820fa1b45a"
      },
      "source": [
        "history += fit(5, 0.5, model, train_loader, val_loader)"
      ],
      "execution_count": null,
      "outputs": [
        {
          "output_type": "stream",
          "name": "stdout",
          "text": [
            "Epoch [0], val_loss: 0.2310, val_acc: 0.9296\n",
            "Epoch [1], val_loss: 0.1718, val_acc: 0.9473\n",
            "Epoch [2], val_loss: 0.1650, val_acc: 0.9496\n",
            "Epoch [3], val_loss: 0.1685, val_acc: 0.9464\n",
            "Epoch [4], val_loss: 0.1348, val_acc: 0.9588\n"
          ]
        }
      ]
    },
    {
      "cell_type": "markdown",
      "metadata": {
        "id": "_by-a2g9peT9"
      },
      "source": [
        "Realmente hemos mejorado mucho! 96% es un muy buen resultado. Podemos probar a seguir entrenando, esta vez con un ratio de aprendizaje menor para intentar afinar en nuestro ajuste y mejorar los resultados."
      ]
    },
    {
      "cell_type": "code",
      "metadata": {
        "id": "AjA2dtlrpeT9",
        "colab": {
          "base_uri": "https://localhost:8080/"
        },
        "outputId": "564c9947-07ab-4763-f2c0-739ed00c52be"
      },
      "source": [
        "history += fit(5, 0.1, model, train_loader, val_loader)"
      ],
      "execution_count": null,
      "outputs": [
        {
          "output_type": "stream",
          "name": "stdout",
          "text": [
            "Epoch [0], val_loss: 0.1208, val_acc: 0.9626\n",
            "Epoch [1], val_loss: 0.1174, val_acc: 0.9634\n",
            "Epoch [2], val_loss: 0.1172, val_acc: 0.9635\n",
            "Epoch [3], val_loss: 0.1145, val_acc: 0.9640\n",
            "Epoch [4], val_loss: 0.1123, val_acc: 0.9648\n"
          ]
        }
      ]
    },
    {
      "cell_type": "markdown",
      "metadata": {
        "id": "W7LAqJCMpeT9"
      },
      "source": [
        "Vamos a graficar los resultados y de esa froma estudiar como el modelo va mejorando con respecto a los ciclos que entrena."
      ]
    },
    {
      "cell_type": "code",
      "source": [
        "history #primer entrenamiento y segundo entrenamiento"
      ],
      "metadata": {
        "colab": {
          "base_uri": "https://localhost:8080/"
        },
        "id": "IVNaUI0rCdWI",
        "outputId": "b29b0905-f680-4145-b0f7-b34835d2945c"
      },
      "execution_count": null,
      "outputs": [
        {
          "output_type": "execute_result",
          "data": {
            "text/plain": [
              "[{'val_acc': 0.10312499850988388, 'val_loss': 2.3130879402160645},\n",
              " {'val_acc': 0.9295898675918579, 'val_loss': 0.23102501034736633},\n",
              " {'val_acc': 0.947265625, 'val_loss': 0.17181716859340668},\n",
              " {'val_acc': 0.9496093988418579, 'val_loss': 0.1650294065475464},\n",
              " {'val_acc': 0.9463866949081421, 'val_loss': 0.16847287118434906},\n",
              " {'val_acc': 0.958789050579071, 'val_loss': 0.1347598433494568},\n",
              " {'val_acc': 0.962597668170929, 'val_loss': 0.12084229290485382},\n",
              " {'val_acc': 0.96337890625, 'val_loss': 0.11742641031742096},\n",
              " {'val_acc': 0.9634765386581421, 'val_loss': 0.11715662479400635},\n",
              " {'val_acc': 0.9639648199081421, 'val_loss': 0.11450638622045517},\n",
              " {'val_acc': 0.96484375, 'val_loss': 0.11229536682367325}]"
            ]
          },
          "metadata": {},
          "execution_count": 60
        }
      ]
    },
    {
      "cell_type": "code",
      "metadata": {
        "id": "I3g-DRifpeT9",
        "colab": {
          "base_uri": "https://localhost:8080/",
          "height": 295
        },
        "outputId": "bd46253a-b1d0-4f45-d550-df8434a663a8"
      },
      "source": [
        "losses = [x['val_loss'] for x in history]\n",
        "plt.plot(losses, '-x')\n",
        "plt.xlabel('epoch')\n",
        "plt.ylabel('loss')\n",
        "plt.title('Loss vs. No. of epochs');"
      ],
      "execution_count": null,
      "outputs": [
        {
          "output_type": "display_data",
          "data": {
            "image/png": "[encoded data removed]",
            "text/plain": [
              "<Figure size 432x288 with 1 Axes>"
            ]
          },
          "metadata": {
            "needs_background": "light"
          }
        }
      ]
    },
    {
      "cell_type": "code",
      "metadata": {
        "id": "28kJvNmFpeT9",
        "scrolled": true,
        "colab": {
          "base_uri": "https://localhost:8080/",
          "height": 295
        },
        "outputId": "6e19c821-2d22-4638-c91b-6682a392a53a"
      },
      "source": [
        "accuracies = [x['val_acc'] for x in history]\n",
        "plt.plot(accuracies, '-x')\n",
        "plt.xlabel('epoch')\n",
        "plt.ylabel('accuracy')\n",
        "plt.title('Accuracy vs. No. of epochs');"
      ],
      "execution_count": null,
      "outputs": [
        {
          "output_type": "display_data",
          "data": {
            "image/png": "[encoded data removed]",
            "text/plain": [
              "<Figure size 432x288 with 1 Axes>"
            ]
          },
          "metadata": {
            "needs_background": "light"
          }
        }
      ]
    },
    {
      "cell_type": "markdown",
      "metadata": {
        "id": "zBmLGRuLpeT9"
      },
      "source": [
        "Observamos que el modelo ha conseguido superar (con los mismos datos) los resultados obtenidos con el modelo de regresion logística (que estaban en torna al 86%) El modelo con un MLP simple (una sola capa oculta) rápidamente ha obtenido cerca de un 97% lo cual es muy buen resultado, aunque parece que ya no mejora mucho más. Para conseguir mejorar más, tendríamos que plantear modelos más potentes incrementando el número de elementos en la capa oculta o directamente el número de capas. "
      ]
    },
    {
      "cell_type": "markdown",
      "metadata": {
        "id": "Lf_6nWkCBGB5"
      },
      "source": [
        "## Test con imágenes individuales\n",
        "\n",
        "Además de llevar un seguimiento de lo precisión del modelo, también resulta interesante explorar los resultados del modelo con ejemplos concretos de imágenes. Vamos a probar el modelo con algunas del conjunto de 10000 imágenes de test. \n",
        "\n",
        "Empezamos transformando los datos a tensores con `ToTensor`"
      ]
    },
    {
      "cell_type": "code",
      "metadata": {
        "id": "ZJ6E4f-iBBTm"
      },
      "source": [
        "# Define test dataset\n",
        "test_dataset = MNIST(root='data/', \n",
        "                     train=False,\n",
        "                     transform=ToTensor())"
      ],
      "execution_count": null,
      "outputs": []
    },
    {
      "cell_type": "markdown",
      "metadata": {
        "id": "uGKvjeJXBTiN"
      },
      "source": [
        "Definiremos una función `predict_image` que nos facilitará la predicción devolviendo la etiqueta obtenida para un tensor de imagen individual entrado."
      ]
    },
    {
      "cell_type": "code",
      "metadata": {
        "id": "ZhxrAx6LBTNG"
      },
      "source": [
        "def predict_image(img, model):\n",
        "    xb = to_device(img.unsqueeze(0), device) #0 es el primer parámetro de tamañan de la imagen\n",
        "    yb = model(xb)                            #unsqueeze añade una dimensión: antes 1x28x28, ahora añadimos el lote 1x1x28x28 = 1x784\n",
        "    _, preds  = torch.max(yb, dim=1)\n",
        "    return preds[0].item()"
      ],
      "execution_count": null,
      "outputs": []
    },
    {
      "cell_type": "markdown",
      "source": [
        "1x28x28\n",
        "\n",
        "128x1x28x28\n",
        "\n",
        "128x784 -> 128x10 -> resultado: 1 solo (el más grande)\n",
        "\n",
        "1x28x28\n",
        "\n",
        "1x1x28x28\n",
        "\n",
        "1x784 -> 1x10 -> 1 (el más alto)"
      ],
      "metadata": {
        "id": "QRUv6EY1E4L_"
      }
    },
    {
      "cell_type": "markdown",
      "metadata": {
        "id": "N4kUaLBqBZLd"
      },
      "source": [
        "Probamos con varias imágenes: "
      ]
    },
    {
      "cell_type": "code",
      "metadata": {
        "id": "JsNnl42DBXog",
        "colab": {
          "base_uri": "https://localhost:8080/",
          "height": 283
        },
        "outputId": "aae9cd7a-3e71-4d13-d505-52e7474458a4"
      },
      "source": [
        "img, label = test_dataset[0]\n",
        "plt.imshow(img[0], cmap='gray')\n",
        "print('Label:', label, ', Predicted:', predict_image(img, model))"
      ],
      "execution_count": null,
      "outputs": [
        {
          "output_type": "stream",
          "name": "stdout",
          "text": [
            "Label: 7 , Predicted: 7\n"
          ]
        },
        {
          "output_type": "display_data",
          "data": {
            "image/png": "[encoded data removed]",
            "text/plain": [
              "<Figure size 432x288 with 1 Axes>"
            ]
          },
          "metadata": {
            "needs_background": "light"
          }
        }
      ]
    },
    {
      "cell_type": "code",
      "metadata": {
        "id": "lu0lN0xnBiD6",
        "colab": {
          "base_uri": "https://localhost:8080/",
          "height": 283
        },
        "outputId": "a52031f1-dbe9-445b-f8ce-a15a52325a28"
      },
      "source": [
        "img, label = test_dataset[4500]\n",
        "plt.imshow(img[0], cmap='gray')\n",
        "print('Label:', label, ', Predicted:', predict_image(img, model))"
      ],
      "execution_count": null,
      "outputs": [
        {
          "output_type": "stream",
          "name": "stdout",
          "text": [
            "Label: 9 , Predicted: 1\n"
          ]
        },
        {
          "output_type": "display_data",
          "data": {
            "image/png": "[encoded data removed]",
            "text/plain": [
              "<Figure size 432x288 with 1 Axes>"
            ]
          },
          "metadata": {
            "needs_background": "light"
          }
        }
      ]
    },
    {
      "cell_type": "code",
      "metadata": {
        "id": "ZpzxiYHjBliK",
        "colab": {
          "base_uri": "https://localhost:8080/",
          "height": 283
        },
        "outputId": "a223b5a2-accf-4bc7-bd9c-b5745e8aead1"
      },
      "source": [
        "img, label = test_dataset[193]\n",
        "plt.imshow(img[0], cmap='gray')\n",
        "print('Label:', label, ', Predicted:', predict_image(img, model))"
      ],
      "execution_count": null,
      "outputs": [
        {
          "output_type": "stream",
          "name": "stdout",
          "text": [
            "Label: 9 , Predicted: 9\n"
          ]
        },
        {
          "output_type": "display_data",
          "data": {
            "image/png": "[encoded data removed]",
            "text/plain": [
              "<Figure size 432x288 with 1 Axes>"
            ]
          },
          "metadata": {
            "needs_background": "light"
          }
        }
      ]
    },
    {
      "cell_type": "code",
      "metadata": {
        "id": "MNgqjarSbOL9",
        "colab": {
          "base_uri": "https://localhost:8080/",
          "height": 283
        },
        "outputId": "a2a75c5e-5ad8-442b-f540-fdc11a1870c5"
      },
      "source": [
        "img, label = test_dataset[1839]\n",
        "plt.imshow(img[0], cmap='gray')\n",
        "print('Label:', label, ', Predicted:', predict_image(img, model))"
      ],
      "execution_count": null,
      "outputs": [
        {
          "output_type": "stream",
          "name": "stdout",
          "text": [
            "Label: 2 , Predicted: 2\n"
          ]
        },
        {
          "output_type": "display_data",
          "data": {
            "image/png": "[encoded data removed]",
            "text/plain": [
              "<Figure size 432x288 with 1 Axes>"
            ]
          },
          "metadata": {
            "needs_background": "light"
          }
        }
      ]
    },
    {
      "cell_type": "markdown",
      "metadata": {
        "id": "RqG62k05BqpC"
      },
      "source": [
        "Como ya sabemos, es interesante identificar donde se comporta peor nuestro modelo porque es la forma en que podemos afrontar las diferentes estrategias de mejora, bien recogiendo más datos, ajustando hiperpaámetros, arquitectura de la red, etc.\n",
        "\n",
        "Com opaso final, vamos a evaluar la pérdida y precisión total para el modelo sobre el conjunto de test."
      ]
    },
    {
      "cell_type": "code",
      "metadata": {
        "id": "rvNoyn0RBtBm",
        "colab": {
          "base_uri": "https://localhost:8080/"
        },
        "outputId": "9fa91d0b-9cbc-4918-cfa2-881a029b40d1"
      },
      "source": [
        "test_loader = DeviceDataLoader(DataLoader(test_dataset, batch_size=256), device)\n",
        "result = evaluate(model, test_loader)\n",
        "result"
      ],
      "execution_count": null,
      "outputs": [
        {
          "output_type": "execute_result",
          "data": {
            "text/plain": [
              "{'val_acc': 0.96826171875, 'val_loss': 0.10467705875635147}"
            ]
          },
          "metadata": {},
          "execution_count": 67
        }
      ]
    },
    {
      "cell_type": "markdown",
      "metadata": {
        "id": "CZz2M4WPBzlT"
      },
      "source": [
        "El resultado obtenido debe ser parecido al de entrenamiento. Si no es así, es posible que el conjunto de validación empleado en el entrenamiento no tenga similar distribucion al de test, que a menudo proviene de datos reales. También se pueden dar problemas de sobreajuste. "
      ]
    },
    {
      "cell_type": "markdown",
      "metadata": {
        "id": "Q-syIZYUB1Ls"
      },
      "source": [
        "## Salvar el modelo \n",
        "Vamos a salvar el modelo a disco de forma que podamos recuperar los valores de las matrices de pesos y biases que han sido ajustados. De esta forma un nuevo modelo no tiene porqué empezar desde cero. También nos sirve para continuar el entrenamiento ."
      ]
    },
    {
      "cell_type": "code",
      "metadata": {
        "id": "BT6v860WByIJ"
      },
      "source": [
        "#Guardamos las mastrices con pesos y biases\n",
        "torch.save(model.state_dict(), 'mlp-basico.pth') #Si estamos en colab, solo se guarda en el directorio temporal de colab. Hay que descargarlo"
      ],
      "execution_count": null,
      "outputs": []
    },
    {
      "cell_type": "code",
      "source": [
        "model.state_dict()"
      ],
      "metadata": {
        "colab": {
          "base_uri": "https://localhost:8080/"
        },
        "id": "OwY7Zf_zGGPn",
        "outputId": "de5a290c-54a2-4d8f-9eec-190e56ca5921"
      },
      "execution_count": null,
      "outputs": [
        {
          "output_type": "execute_result",
          "data": {
            "text/plain": [
              "OrderedDict([('linear1.weight',\n",
              "              tensor([[-0.0290,  0.0006, -0.0267,  ...,  0.0334, -0.0036, -0.0009],\n",
              "                      [ 0.0235, -0.0344,  0.0118,  ...,  0.0313, -0.0190,  0.0267],\n",
              "                      [ 0.0189, -0.0154, -0.0126,  ...,  0.0292,  0.0228,  0.0064],\n",
              "                      ...,\n",
              "                      [-0.0127, -0.0140, -0.0164,  ...,  0.0165,  0.0295,  0.0279],\n",
              "                      [ 0.0349,  0.0007,  0.0017,  ...,  0.0046,  0.0213,  0.0090],\n",
              "                      [ 0.0059, -0.0317, -0.0289,  ..., -0.0317, -0.0341, -0.0311]],\n",
              "                     device='cuda:0')),\n",
              "             ('linear1.bias',\n",
              "              tensor([ 0.2165, -0.1086,  0.4083, -0.0106,  0.2286, -0.0453,  0.3398,  0.2239,\n",
              "                       0.0233,  0.3687, -0.1595, -0.1724,  0.2745, -0.2973, -0.3146, -0.1323,\n",
              "                       0.3015,  0.2983,  0.4115,  0.0722, -0.1605, -0.1037, -0.0339, -0.1200,\n",
              "                       0.0323,  0.4069,  0.0069,  0.1209, -0.1018,  0.0883,  0.0274, -0.0957],\n",
              "                     device='cuda:0')),\n",
              "             ('linear2.weight',\n",
              "              tensor([[-0.1527,  0.6963,  0.3751,  0.1519,  0.3464, -0.3399,  0.2916,  0.6348,\n",
              "                       -0.1268, -0.0468,  0.0525, -0.9481, -0.9332, -0.3830,  0.9115,  0.1526,\n",
              "                       -0.2106,  0.0978, -0.3386,  0.5044,  0.7439, -0.0857, -0.2678, -0.1015,\n",
              "                       -0.5778, -0.4830, -0.8621, -0.4740, -0.5284,  0.3749, -0.4703,  0.1971],\n",
              "                      [-0.1206, -0.3801,  0.1850,  0.2691, -0.6047,  0.8727,  0.1304, -0.3548,\n",
              "                       -0.1245, -0.3298,  0.0196, -0.4571,  0.4409, -0.2303, -0.6498, -0.8082,\n",
              "                        0.6323,  0.0928, -0.4793, -0.4649, -0.1065, -0.3807, -0.3310, -0.5495,\n",
              "                        0.2526, -0.7841, -0.3167,  1.1374,  0.0329, -0.0706,  1.0855,  0.9116],\n",
              "                      [ 0.1579, -0.4159, -0.2358, -0.0344,  1.0683, -0.6199,  1.0224, -0.1585,\n",
              "                       -0.1509, -1.2532,  1.0350, -0.2661, -0.5101, -0.8847,  0.5423, -0.2086,\n",
              "                        0.4665,  0.1859,  1.0165, -0.0700,  0.6215, -0.1437, -0.3705,  0.1236,\n",
              "                        0.5802, -0.2620, -0.1518,  0.5272,  1.0456, -0.3562, -0.2605,  0.3531],\n",
              "                      [-0.5575,  0.5739, -0.5607,  0.1353,  0.8737,  0.6218,  0.0974,  0.0818,\n",
              "                       -0.1287, -0.2122,  0.4791,  0.7808,  0.0758,  0.7833, -0.0648,  0.5476,\n",
              "                       -0.8272,  0.0481, -0.2368, -0.4924, -0.6524,  0.9744,  0.8174, -0.2309,\n",
              "                        0.7587, -0.5785,  0.6514,  0.1768,  0.4920, -0.9260, -1.0596,  0.4478],\n",
              "                      [ 0.5957, -0.3043,  0.5747,  0.0167, -0.5324,  0.1539, -0.1871, -0.8269,\n",
              "                       -0.0389, -0.4623, -0.9725, -0.1099, -0.0946,  0.7316, -0.6874, -0.5268,\n",
              "                       -0.7276,  0.5659, -0.6984,  0.7277, -0.1067, -0.4968,  0.2220,  0.6216,\n",
              "                       -0.8062,  0.1981,  0.4065,  0.6330, -0.1878,  0.2982,  0.7870, -0.8846],\n",
              "                      [-0.6944,  0.1121, -0.2965,  0.0955,  0.1289,  0.8787,  0.5735,  1.2719,\n",
              "                       -0.0308,  1.2325, -0.2943,  0.4535,  0.2400,  0.1408,  0.1952, -0.1233,\n",
              "                        0.1514, -0.1030,  0.1426, -0.2223, -1.0319,  0.7411,  0.4586, -0.6469,\n",
              "                        0.1756,  0.8559,  0.5347, -1.5990,  0.5231,  0.1431, -0.6056, -0.5468],\n",
              "                      [-0.3983,  0.6141,  0.3710, -0.1336, -0.9076, -0.3765, -0.6373,  0.8413,\n",
              "                       -0.1180,  0.5151, -0.4450, -0.5364,  0.4507, -0.6648,  0.2565, -0.7682,\n",
              "                        0.8582,  0.1754,  1.1163,  0.4794, -0.0326, -0.1642, -0.4209, -0.0064,\n",
              "                       -0.1412, -0.5864, -0.3387, -0.8872, -0.6027, -0.0030, -0.0341, -0.9389],\n",
              "                      [ 1.2859, -0.2815,  1.4715, -0.1489,  0.2135, -0.7186, -0.6100, -0.2113,\n",
              "                       -0.0272,  0.0219,  1.2325, -0.2291, -0.3148, -0.6698, -0.8087,  0.5627,\n",
              "                       -0.1561,  0.2071, -0.0230, -0.1483, -0.2052, -0.5262, -0.6524, -0.3853,\n",
              "                        0.5724,  0.5309, -0.1944,  0.1549, -0.3274, -0.0492,  0.4994,  0.7329],\n",
              "                      [-1.0982, -0.6172, -1.0109, -0.3447, -0.6822, -0.8498, -1.0587, -0.5675,\n",
              "                       -0.1484,  0.1754, -0.1276,  0.7443,  0.7904,  0.0947,  0.4797,  0.3550,\n",
              "                        0.2267, -0.1030, -0.0558, -0.7587,  0.5061, -0.1647,  0.5316,  0.6411,\n",
              "                        0.2599,  0.7509, -0.5654, -0.1238,  0.0802, -0.4339,  0.2344, -0.3802],\n",
              "                      [ 0.8055, -0.2608, -0.6152,  0.0098, -0.3950,  0.6199,  0.0979, -0.0703,\n",
              "                        0.2775, -0.0523, -0.9582,  0.0656, -0.1651,  0.7181, -0.3152,  0.7541,\n",
              "                       -0.3486, -1.6185, -0.6008,  0.6036,  0.3887,  0.5631, -0.1740,  0.3767,\n",
              "                       -0.8298,  0.4331,  0.5069,  0.1493, -0.1917,  0.8995, -0.4009,  0.1933]],\n",
              "                     device='cuda:0')),\n",
              "             ('linear2.bias',\n",
              "              tensor([-0.0951,  0.3033, -0.2956, -0.4600,  0.1595,  0.5876, -0.1764, -0.0054,\n",
              "                       0.0240,  0.0639], device='cuda:0'))])"
            ]
          },
          "metadata": {},
          "execution_count": 69
        }
      ]
    },
    {
      "cell_type": "markdown",
      "metadata": {
        "id": "n2QOf-HEltUP"
      },
      "source": [
        "## Fin del Notebook"
      ]
    },
    {
      "cell_type": "markdown",
      "metadata": {
        "id": "BZDr1zYmBkRV"
      },
      "source": [
        "Referencias y modelos empleados para el Notebook: \n",
        "\n",
        "*   Documentación de [Pytorch](https://pytorch.org/docs/stable/index.html) \n",
        "*   [PyTorch Tutorial for Deep Learning Researchers](https://github.com/yunjey/pytorch-tutorial) by Yunjey Choi\n",
        "*   [FastAI](https://www.fast.ai/) development notebooks by Jeremy Howard.\n",
        "*   Documentación y cursos en [Pierian Data](https://www.pieriandata.com/)\n",
        "*   Tutoriales y notebooks del curso \"Deep Learning with Pytorch: Zero to GANs\" de [Aakash N S](https://jovian.ai/aakashns)\n",
        "* [A visual proof that neural networks can compute any function](http://neuralnetworksanddeeplearning.com/chap4.html), también conocido como Teorema de Aproximación Universal\n",
        "* [But what *is* a neural network?](https://www.youtube.com/watch?v=aircAruvnKk) - Una introducción muy intuitiva a lo que son las redes neuronales y lo que implican las capas ocultas."
      ]
    }
  ]
}