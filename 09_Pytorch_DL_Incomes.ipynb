{
  "nbformat": 4,
  "nbformat_minor": 0,
  "metadata": {
    "kernelspec": {
      "display_name": "Python 3",
      "language": "python",
      "name": "python3"
    },
    "language_info": {
      "codemirror_mode": {
        "name": "ipython",
        "version": 3
      },
      "file_extension": ".py",
      "mimetype": "text/x-python",
      "name": "python",
      "nbconvert_exporter": "python",
      "pygments_lexer": "ipython3",
      "version": "3.7.3"
    },
    "colab": {
      "name": "09-Pytorch-DL_Incomes.ipynb",
      "provenance": [],
      "collapsed_sections": [],
      "include_colab_link": true
    }
  },
  "cells": [
    {
      "cell_type": "markdown",
      "metadata": {
        "id": "view-in-github",
        "colab_type": "text"
      },
      "source": [
        "<a href=\"https://colab.research.google.com/github/Carmen-GL/repo_master_/blob/main/09_Pytorch_DL_Incomes.ipynb\" target=\"_parent\"><img src=\"https://colab.research.google.com/assets/colab-badge.svg\" alt=\"Open In Colab\"/></a>"
      ]
    },
    {
      "cell_type": "markdown",
      "metadata": {
        "id": "9nqPW8adYjVJ"
      },
      "source": [
        "![IDAL](https://i.imgur.com/tIKXIG1.jpg)  \n",
        "\n",
        "#<strong>**Máster en Inteligencia Artificial Avanzada y Aplicada  IA^3**</strong>\n",
        "---\n"
      ]
    },
    {
      "cell_type": "markdown",
      "metadata": {
        "id": "MqTSfSSlcCeJ"
      },
      "source": [
        "##<center>**Deep learning aplicado a regresión**<center>"
      ]
    },
    {
      "cell_type": "markdown",
      "metadata": {
        "collapsed": true,
        "id": "XxHBo_uc3JOv"
      },
      "source": [
        "# Red neuronal profunda: Census Income Prediction\n",
        "\n",
        "En este ejercicio vamos a trabajar sonre el conjunto de datos del Census Income dataset disponible en <a href = 'http://archive.ics.uci.edu/ml/datasets/Adult'>UC Irvine Machine Learning Repository</a><br>\n",
        "El objetivo es determinar si el individuo estudiado gana más de $50K o no basado en un conjunto de variables continuas y categóricas. "
      ]
    },
    {
      "cell_type": "markdown",
      "metadata": {
        "id": "DQaYkLbxCkP2"
      },
      "source": [
        "## Conjunto de datos Census Income Dataset\n",
        "\n",
        "El conjunto completo tiene 48,842 registros. Para este ejercicio hemos reducido el númeri de registros y campos y se han eliminado las entradas con valores nulos. El fichero que se va a emplear consta de 30,000 entradas.\n",
        "\n",
        "Cada entrada contiene la siguiente información individual:\n",
        "* <strong>age</strong>: la edad como número entero entre 18 y 90 (continua)\n",
        "* <strong>sex</strong>: Male (masculino) o Female (femenino) (categórica)\n",
        "* <strong>education</strong>: nivel más alto de educación recibido (categórica)\n",
        "* <strong>education_num</strong>: nivel de educación como número de 3 a 16 (categórica)\n",
        "<div><table style=\"display: inline-block\">\n",
        "<tr><td>3</td><td>5th-6th</td><td>8</td><td>12th</td><td>13</td><td>Bachelors</td></tr>\n",
        "<tr><td>4</td><td>7th-8th</td><td>9</td><td>HS-grad</td><td>14</td><td>Masters</td></tr>\n",
        "<tr><td>5</td><td>9th</td><td>10</td><td>Some-college</td><td>15</td><td>Prof-school</td></tr>\n",
        "<tr><td>6</td><td>10th</td><td>11</td><td>Assoc-voc</td><td>16</td><td>Doctorate</td></tr>\n",
        "<tr><td>7</td><td>11th</td><td>12</td><td>Assoc-acdm</td></tr>\n",
        "</table></div>\n",
        "* <strong>marital-status</strong>: estado civil (categórica)\n",
        "<div><table style=\"display: inline-block\">\n",
        "<tr><td>Married</td><td>Divorced</td><td>Married-spouse-absent</td></tr>\n",
        "<tr><td>Separated</td><td>Widowed</td><td>Never-married</td></tr>\n",
        "</table></div>\n",
        "* <strong>workclass</strong>: término general que representa la situación  laboral (categorica)\n",
        "<div><table style=\"display: inline-block\">\n",
        "<tr><td>Local-gov</td><td>Private</td></tr>\n",
        "<tr><td>State-gov</td><td>Self-emp</td></tr>\n",
        "<tr><td>Federal-gov</td></tr>\n",
        "</table></div>\n",
        "* <strong>occupation</strong>: tipo de ocupación (categórica)\n",
        "<div><table style=\"display: inline-block\">\n",
        "<tr><td>Adm-clerical</td><td>Handlers-cleaners</td><td>Protective-serv</td></tr>\n",
        "<tr><td>Craft-repair</td><td>Machine-op-inspct</td><td>Sales</td></tr>\n",
        "<tr><td>Exec-managerial</td><td>Other-service</td><td>Tech-support</td></tr>\n",
        "<tr><td>Farming-fishing</td><td>Prof-specialty</td><td>Transport-moving</td></tr>\n",
        "</table></div>\n",
        "* <strong>hours-per-week</strong>: horas que el individuo reporta como trabajadas por semana siendo un entero entre 20 a 90 (continua)\n",
        "* <strong>income</strong>: valor que indica si supera o  no los ingresos de  \\\\$50,000 anuales (etiqueta)\n",
        "* <strong>label</strong>: ingresos anuales en valor numérico (0: <=\\\\$50K, 1: >\\\\$50K) (etiqueta opcional)"
      ]
    },
    {
      "cell_type": "markdown",
      "metadata": {
        "id": "gYIzqxRbCkP4"
      },
      "source": [
        "## Importaciones standard"
      ]
    },
    {
      "cell_type": "code",
      "metadata": {
        "id": "hKRaoZE4CkP5"
      },
      "source": [
        "import torch\n",
        "import torch.nn as nn\n",
        "\n",
        "import numpy as np\n",
        "import pandas as pd\n",
        "import matplotlib.pyplot as plt\n",
        "from sklearn.utils import shuffle\n",
        "%matplotlib inline\n"
      ],
      "execution_count": 1,
      "outputs": []
    },
    {
      "cell_type": "code",
      "metadata": {
        "colab": {
          "base_uri": "https://localhost:8080/"
        },
        "id": "1N0wH5ELaqGr",
        "outputId": "fdc00ec8-2054-4895-eb3a-404e98969a1d"
      },
      "source": [
        "# Montamos Drive para acceder a los datos_\n",
        "from google.colab import drive\n",
        "drive.mount('/content/drive')"
      ],
      "execution_count": 2,
      "outputs": [
        {
          "output_type": "stream",
          "name": "stdout",
          "text": [
            "Mounted at /content/drive\n"
          ]
        }
      ]
    },
    {
      "cell_type": "code",
      "metadata": {
        "id": "6MAaUoVN7FiV"
      },
      "source": [
        "df = pd.read_csv('/content/drive/MyDrive/Colab Notebooks/Datos/income.csv')"
      ],
      "execution_count": 3,
      "outputs": []
    },
    {
      "cell_type": "code",
      "metadata": {
        "scrolled": true,
        "id": "PEXBpqmZCkP6",
        "colab": {
          "base_uri": "https://localhost:8080/",
          "height": 355
        },
        "outputId": "921c1d4c-3919-4d1c-e8b9-e75ecd7c9a6a"
      },
      "source": [
        "print(len(df))\n",
        "df.head()"
      ],
      "execution_count": 4,
      "outputs": [
        {
          "output_type": "stream",
          "name": "stdout",
          "text": [
            "30000\n"
          ]
        },
        {
          "output_type": "execute_result",
          "data": {
            "text/html": [
              "\n",
              "  <div id=\"df-ca86c686-726f-4901-adbc-cacbe7d8dcb7\">\n",
              "    <div class=\"colab-df-container\">\n",
              "      <div>\n",
              "<style scoped>\n",
              "    .dataframe tbody tr th:only-of-type {\n",
              "        vertical-align: middle;\n",
              "    }\n",
              "\n",
              "    .dataframe tbody tr th {\n",
              "        vertical-align: top;\n",
              "    }\n",
              "\n",
              "    .dataframe thead th {\n",
              "        text-align: right;\n",
              "    }\n",
              "</style>\n",
              "<table border=\"1\" class=\"dataframe\">\n",
              "  <thead>\n",
              "    <tr style=\"text-align: right;\">\n",
              "      <th></th>\n",
              "      <th>age</th>\n",
              "      <th>sex</th>\n",
              "      <th>education</th>\n",
              "      <th>education-num</th>\n",
              "      <th>marital-status</th>\n",
              "      <th>workclass</th>\n",
              "      <th>occupation</th>\n",
              "      <th>hours-per-week</th>\n",
              "      <th>income</th>\n",
              "      <th>label</th>\n",
              "    </tr>\n",
              "  </thead>\n",
              "  <tbody>\n",
              "    <tr>\n",
              "      <th>0</th>\n",
              "      <td>27</td>\n",
              "      <td>Male</td>\n",
              "      <td>HS-grad</td>\n",
              "      <td>9</td>\n",
              "      <td>Never-married</td>\n",
              "      <td>Private</td>\n",
              "      <td>Craft-repair</td>\n",
              "      <td>40</td>\n",
              "      <td>&lt;=50K</td>\n",
              "      <td>0</td>\n",
              "    </tr>\n",
              "    <tr>\n",
              "      <th>1</th>\n",
              "      <td>47</td>\n",
              "      <td>Male</td>\n",
              "      <td>Masters</td>\n",
              "      <td>14</td>\n",
              "      <td>Married</td>\n",
              "      <td>Local-gov</td>\n",
              "      <td>Exec-managerial</td>\n",
              "      <td>50</td>\n",
              "      <td>&gt;50K</td>\n",
              "      <td>1</td>\n",
              "    </tr>\n",
              "    <tr>\n",
              "      <th>2</th>\n",
              "      <td>59</td>\n",
              "      <td>Male</td>\n",
              "      <td>HS-grad</td>\n",
              "      <td>9</td>\n",
              "      <td>Divorced</td>\n",
              "      <td>Self-emp</td>\n",
              "      <td>Prof-specialty</td>\n",
              "      <td>20</td>\n",
              "      <td>&lt;=50K</td>\n",
              "      <td>0</td>\n",
              "    </tr>\n",
              "    <tr>\n",
              "      <th>3</th>\n",
              "      <td>38</td>\n",
              "      <td>Female</td>\n",
              "      <td>Prof-school</td>\n",
              "      <td>15</td>\n",
              "      <td>Never-married</td>\n",
              "      <td>Federal-gov</td>\n",
              "      <td>Prof-specialty</td>\n",
              "      <td>57</td>\n",
              "      <td>&gt;50K</td>\n",
              "      <td>1</td>\n",
              "    </tr>\n",
              "    <tr>\n",
              "      <th>4</th>\n",
              "      <td>64</td>\n",
              "      <td>Female</td>\n",
              "      <td>11th</td>\n",
              "      <td>7</td>\n",
              "      <td>Widowed</td>\n",
              "      <td>Private</td>\n",
              "      <td>Farming-fishing</td>\n",
              "      <td>40</td>\n",
              "      <td>&lt;=50K</td>\n",
              "      <td>0</td>\n",
              "    </tr>\n",
              "  </tbody>\n",
              "</table>\n",
              "</div>\n",
              "      <button class=\"colab-df-convert\" onclick=\"convertToInteractive('df-ca86c686-726f-4901-adbc-cacbe7d8dcb7')\"\n",
              "              title=\"Convert this dataframe to an interactive table.\"\n",
              "              style=\"display:none;\">\n",
              "        \n",
              "  <svg xmlns=\"http://www.w3.org/2000/svg\" height=\"24px\"viewBox=\"0 0 24 24\"\n",
              "       width=\"24px\">\n",
              "    <path d=\"M0 0h24v24H0V0z\" fill=\"none\"/>\n",
              "    <path d=\"M18.56 5.44l.94 2.06.94-2.06 2.06-.94-2.06-.94-.94-2.06-.94 2.06-2.06.94zm-11 1L8.5 8.5l.94-2.06 2.06-.94-2.06-.94L8.5 2.5l-.94 2.06-2.06.94zm10 10l.94 2.06.94-2.06 2.06-.94-2.06-.94-.94-2.06-.94 2.06-2.06.94z\"/><path d=\"M17.41 7.96l-1.37-1.37c-.4-.4-.92-.59-1.43-.59-.52 0-1.04.2-1.43.59L10.3 9.45l-7.72 7.72c-.78.78-.78 2.05 0 2.83L4 21.41c.39.39.9.59 1.41.59.51 0 1.02-.2 1.41-.59l7.78-7.78 2.81-2.81c.8-.78.8-2.07 0-2.86zM5.41 20L4 18.59l7.72-7.72 1.47 1.35L5.41 20z\"/>\n",
              "  </svg>\n",
              "      </button>\n",
              "      \n",
              "  <style>\n",
              "    .colab-df-container {\n",
              "      display:flex;\n",
              "      flex-wrap:wrap;\n",
              "      gap: 12px;\n",
              "    }\n",
              "\n",
              "    .colab-df-convert {\n",
              "      background-color: #E8F0FE;\n",
              "      border: none;\n",
              "      border-radius: 50%;\n",
              "      cursor: pointer;\n",
              "      display: none;\n",
              "      fill: #1967D2;\n",
              "      height: 32px;\n",
              "      padding: 0 0 0 0;\n",
              "      width: 32px;\n",
              "    }\n",
              "\n",
              "    .colab-df-convert:hover {\n",
              "      background-color: #E2EBFA;\n",
              "      box-shadow: 0px 1px 2px rgba(60, 64, 67, 0.3), 0px 1px 3px 1px rgba(60, 64, 67, 0.15);\n",
              "      fill: #174EA6;\n",
              "    }\n",
              "\n",
              "    [theme=dark] .colab-df-convert {\n",
              "      background-color: #3B4455;\n",
              "      fill: #D2E3FC;\n",
              "    }\n",
              "\n",
              "    [theme=dark] .colab-df-convert:hover {\n",
              "      background-color: #434B5C;\n",
              "      box-shadow: 0px 1px 3px 1px rgba(0, 0, 0, 0.15);\n",
              "      filter: drop-shadow(0px 1px 2px rgba(0, 0, 0, 0.3));\n",
              "      fill: #FFFFFF;\n",
              "    }\n",
              "  </style>\n",
              "\n",
              "      <script>\n",
              "        const buttonEl =\n",
              "          document.querySelector('#df-ca86c686-726f-4901-adbc-cacbe7d8dcb7 button.colab-df-convert');\n",
              "        buttonEl.style.display =\n",
              "          google.colab.kernel.accessAllowed ? 'block' : 'none';\n",
              "\n",
              "        async function convertToInteractive(key) {\n",
              "          const element = document.querySelector('#df-ca86c686-726f-4901-adbc-cacbe7d8dcb7');\n",
              "          const dataTable =\n",
              "            await google.colab.kernel.invokeFunction('convertToInteractive',\n",
              "                                                     [key], {});\n",
              "          if (!dataTable) return;\n",
              "\n",
              "          const docLinkHtml = 'Like what you see? Visit the ' +\n",
              "            '<a target=\"_blank\" href=https://colab.research.google.com/notebooks/data_table.ipynb>data table notebook</a>'\n",
              "            + ' to learn more about interactive tables.';\n",
              "          element.innerHTML = '';\n",
              "          dataTable['output_type'] = 'display_data';\n",
              "          await google.colab.output.renderOutput(dataTable, element);\n",
              "          const docLink = document.createElement('div');\n",
              "          docLink.innerHTML = docLinkHtml;\n",
              "          element.appendChild(docLink);\n",
              "        }\n",
              "      </script>\n",
              "    </div>\n",
              "  </div>\n",
              "  "
            ],
            "text/plain": [
              "   age     sex    education  ...  hours-per-week income label\n",
              "0   27    Male      HS-grad  ...              40  <=50K     0\n",
              "1   47    Male      Masters  ...              50   >50K     1\n",
              "2   59    Male      HS-grad  ...              20  <=50K     0\n",
              "3   38  Female  Prof-school  ...              57   >50K     1\n",
              "4   64  Female         11th  ...              40  <=50K     0\n",
              "\n",
              "[5 rows x 10 columns]"
            ]
          },
          "metadata": {},
          "execution_count": 4
        }
      ]
    },
    {
      "cell_type": "code",
      "metadata": {
        "id": "BQjDPpSeCkP9",
        "colab": {
          "base_uri": "https://localhost:8080/"
        },
        "outputId": "f29dc334-b73d-48fe-fa6d-62bd396dc637"
      },
      "source": [
        "df['label'].value_counts()"
      ],
      "execution_count": 5,
      "outputs": [
        {
          "output_type": "execute_result",
          "data": {
            "text/plain": [
              "0    21700\n",
              "1     8300\n",
              "Name: label, dtype: int64"
            ]
          },
          "metadata": {},
          "execution_count": 5
        }
      ]
    },
    {
      "cell_type": "markdown",
      "metadata": {
        "id": "BOBs-x0aCkP-"
      },
      "source": [
        "### Separamos variables categóricas y continuas\n",
        "\n",
        "Encontramos que hay 5 variables categoricas, 2 continuas y 1 etiqueta (_label_).<br>\n",
        "En el caso de `education` y `education-num` da igual la que empleemos. Para variable objetivo vamos a emplear la columna `label` y no `income` (es importante no introducir esta variable en modelo!)<br>\n",
        "Assigna los nombres \"cat_cols\", \"cont_cols\" y \"y_col\" para las listas de nombres. "
      ]
    },
    {
      "cell_type": "code",
      "metadata": {
        "id": "0wZFDCarCkP-",
        "colab": {
          "base_uri": "https://localhost:8080/"
        },
        "outputId": "bd52196b-e59f-4a52-9e33-ef3c41d38a3c"
      },
      "source": [
        "df.columns"
      ],
      "execution_count": 6,
      "outputs": [
        {
          "output_type": "execute_result",
          "data": {
            "text/plain": [
              "Index(['age', 'sex', 'education', 'education-num', 'marital-status',\n",
              "       'workclass', 'occupation', 'hours-per-week', 'income', 'label'],\n",
              "      dtype='object')"
            ]
          },
          "metadata": {},
          "execution_count": 6
        }
      ]
    },
    {
      "cell_type": "code",
      "metadata": {
        "id": "Ah5L8rLBCkQA",
        "colab": {
          "base_uri": "https://localhost:8080/"
        },
        "outputId": "4b935509-3d61-45f2-c639-46f34884706c"
      },
      "source": [
        "\n",
        "cat_cols = ['sex', 'education', 'marital-status', 'workclass', 'occupation']\n",
        "cont_cols = ['age', 'hours-per-week']\n",
        "y_col = ['label']\n",
        "\n",
        "print(f'cat_cols  has {len(cat_cols)} columns')  # 5\n",
        "print(f'cont_cols has {len(cont_cols)} columns') # 2\n",
        "print(f'y_col     has {len(y_col)} column')      # 1"
      ],
      "execution_count": 7,
      "outputs": [
        {
          "output_type": "stream",
          "name": "stdout",
          "text": [
            "cat_cols  has 5 columns\n",
            "cont_cols has 2 columns\n",
            "y_col     has 1 column\n"
          ]
        }
      ]
    },
    {
      "cell_type": "markdown",
      "metadata": {
        "id": "LRr2h1XFCkQA"
      },
      "source": [
        "### Categorizar"
      ]
    },
    {
      "cell_type": "code",
      "metadata": {
        "id": "g-XfPkePCkQB"
      },
      "source": [
        "\n",
        "for cat in cat_cols:\n",
        "    df[cat] = df[cat].astype('category')"
      ],
      "execution_count": 12,
      "outputs": []
    },
    {
      "cell_type": "markdown",
      "metadata": {
        "id": "gKFNcZMxCkQC"
      },
      "source": [
        "### Opcional: Mezclar el dataset\n",
        "El dataset <strong>income.csv</strong> ya viene mezclado. No obstante si se desean probar configuraciones distintas, el código a continuación poermite que se vuelva a mezclar."
      ]
    },
    {
      "cell_type": "code",
      "metadata": {
        "id": "ldO6WOy0CkQC",
        "colab": {
          "base_uri": "https://localhost:8080/",
          "height": 337
        },
        "outputId": "57556089-bb71-4b4d-fe1c-d83bb071d101"
      },
      "source": [
        "# Opcional\n",
        "df = shuffle(df, random_state=101)\n",
        "df.reset_index(drop=True, inplace=True)\n",
        "df.head()"
      ],
      "execution_count": 10,
      "outputs": [
        {
          "output_type": "execute_result",
          "data": {
            "text/html": [
              "\n",
              "  <div id=\"df-40d81ed4-e4d9-4296-8844-95bc109535d9\">\n",
              "    <div class=\"colab-df-container\">\n",
              "      <div>\n",
              "<style scoped>\n",
              "    .dataframe tbody tr th:only-of-type {\n",
              "        vertical-align: middle;\n",
              "    }\n",
              "\n",
              "    .dataframe tbody tr th {\n",
              "        vertical-align: top;\n",
              "    }\n",
              "\n",
              "    .dataframe thead th {\n",
              "        text-align: right;\n",
              "    }\n",
              "</style>\n",
              "<table border=\"1\" class=\"dataframe\">\n",
              "  <thead>\n",
              "    <tr style=\"text-align: right;\">\n",
              "      <th></th>\n",
              "      <th>age</th>\n",
              "      <th>sex</th>\n",
              "      <th>education</th>\n",
              "      <th>education-num</th>\n",
              "      <th>marital-status</th>\n",
              "      <th>workclass</th>\n",
              "      <th>occupation</th>\n",
              "      <th>hours-per-week</th>\n",
              "      <th>income</th>\n",
              "      <th>label</th>\n",
              "    </tr>\n",
              "  </thead>\n",
              "  <tbody>\n",
              "    <tr>\n",
              "      <th>0</th>\n",
              "      <td>30</td>\n",
              "      <td>Male</td>\n",
              "      <td>Some-college</td>\n",
              "      <td>10</td>\n",
              "      <td>Married</td>\n",
              "      <td>Private</td>\n",
              "      <td>Transport-moving</td>\n",
              "      <td>80</td>\n",
              "      <td>&gt;50K</td>\n",
              "      <td>1</td>\n",
              "    </tr>\n",
              "    <tr>\n",
              "      <th>1</th>\n",
              "      <td>69</td>\n",
              "      <td>Male</td>\n",
              "      <td>Masters</td>\n",
              "      <td>14</td>\n",
              "      <td>Married</td>\n",
              "      <td>Private</td>\n",
              "      <td>Prof-specialty</td>\n",
              "      <td>25</td>\n",
              "      <td>&lt;=50K</td>\n",
              "      <td>0</td>\n",
              "    </tr>\n",
              "    <tr>\n",
              "      <th>2</th>\n",
              "      <td>49</td>\n",
              "      <td>Male</td>\n",
              "      <td>HS-grad</td>\n",
              "      <td>9</td>\n",
              "      <td>Married</td>\n",
              "      <td>Private</td>\n",
              "      <td>Transport-moving</td>\n",
              "      <td>48</td>\n",
              "      <td>&gt;50K</td>\n",
              "      <td>1</td>\n",
              "    </tr>\n",
              "    <tr>\n",
              "      <th>3</th>\n",
              "      <td>43</td>\n",
              "      <td>Male</td>\n",
              "      <td>Some-college</td>\n",
              "      <td>10</td>\n",
              "      <td>Married</td>\n",
              "      <td>Private</td>\n",
              "      <td>Machine-op-inspct</td>\n",
              "      <td>40</td>\n",
              "      <td>&lt;=50K</td>\n",
              "      <td>0</td>\n",
              "    </tr>\n",
              "    <tr>\n",
              "      <th>4</th>\n",
              "      <td>42</td>\n",
              "      <td>Male</td>\n",
              "      <td>HS-grad</td>\n",
              "      <td>9</td>\n",
              "      <td>Married</td>\n",
              "      <td>Private</td>\n",
              "      <td>Exec-managerial</td>\n",
              "      <td>50</td>\n",
              "      <td>&gt;50K</td>\n",
              "      <td>1</td>\n",
              "    </tr>\n",
              "  </tbody>\n",
              "</table>\n",
              "</div>\n",
              "      <button class=\"colab-df-convert\" onclick=\"convertToInteractive('df-40d81ed4-e4d9-4296-8844-95bc109535d9')\"\n",
              "              title=\"Convert this dataframe to an interactive table.\"\n",
              "              style=\"display:none;\">\n",
              "        \n",
              "  <svg xmlns=\"http://www.w3.org/2000/svg\" height=\"24px\"viewBox=\"0 0 24 24\"\n",
              "       width=\"24px\">\n",
              "    <path d=\"M0 0h24v24H0V0z\" fill=\"none\"/>\n",
              "    <path d=\"M18.56 5.44l.94 2.06.94-2.06 2.06-.94-2.06-.94-.94-2.06-.94 2.06-2.06.94zm-11 1L8.5 8.5l.94-2.06 2.06-.94-2.06-.94L8.5 2.5l-.94 2.06-2.06.94zm10 10l.94 2.06.94-2.06 2.06-.94-2.06-.94-.94-2.06-.94 2.06-2.06.94z\"/><path d=\"M17.41 7.96l-1.37-1.37c-.4-.4-.92-.59-1.43-.59-.52 0-1.04.2-1.43.59L10.3 9.45l-7.72 7.72c-.78.78-.78 2.05 0 2.83L4 21.41c.39.39.9.59 1.41.59.51 0 1.02-.2 1.41-.59l7.78-7.78 2.81-2.81c.8-.78.8-2.07 0-2.86zM5.41 20L4 18.59l7.72-7.72 1.47 1.35L5.41 20z\"/>\n",
              "  </svg>\n",
              "      </button>\n",
              "      \n",
              "  <style>\n",
              "    .colab-df-container {\n",
              "      display:flex;\n",
              "      flex-wrap:wrap;\n",
              "      gap: 12px;\n",
              "    }\n",
              "\n",
              "    .colab-df-convert {\n",
              "      background-color: #E8F0FE;\n",
              "      border: none;\n",
              "      border-radius: 50%;\n",
              "      cursor: pointer;\n",
              "      display: none;\n",
              "      fill: #1967D2;\n",
              "      height: 32px;\n",
              "      padding: 0 0 0 0;\n",
              "      width: 32px;\n",
              "    }\n",
              "\n",
              "    .colab-df-convert:hover {\n",
              "      background-color: #E2EBFA;\n",
              "      box-shadow: 0px 1px 2px rgba(60, 64, 67, 0.3), 0px 1px 3px 1px rgba(60, 64, 67, 0.15);\n",
              "      fill: #174EA6;\n",
              "    }\n",
              "\n",
              "    [theme=dark] .colab-df-convert {\n",
              "      background-color: #3B4455;\n",
              "      fill: #D2E3FC;\n",
              "    }\n",
              "\n",
              "    [theme=dark] .colab-df-convert:hover {\n",
              "      background-color: #434B5C;\n",
              "      box-shadow: 0px 1px 3px 1px rgba(0, 0, 0, 0.15);\n",
              "      filter: drop-shadow(0px 1px 2px rgba(0, 0, 0, 0.3));\n",
              "      fill: #FFFFFF;\n",
              "    }\n",
              "  </style>\n",
              "\n",
              "      <script>\n",
              "        const buttonEl =\n",
              "          document.querySelector('#df-40d81ed4-e4d9-4296-8844-95bc109535d9 button.colab-df-convert');\n",
              "        buttonEl.style.display =\n",
              "          google.colab.kernel.accessAllowed ? 'block' : 'none';\n",
              "\n",
              "        async function convertToInteractive(key) {\n",
              "          const element = document.querySelector('#df-40d81ed4-e4d9-4296-8844-95bc109535d9');\n",
              "          const dataTable =\n",
              "            await google.colab.kernel.invokeFunction('convertToInteractive',\n",
              "                                                     [key], {});\n",
              "          if (!dataTable) return;\n",
              "\n",
              "          const docLinkHtml = 'Like what you see? Visit the ' +\n",
              "            '<a target=\"_blank\" href=https://colab.research.google.com/notebooks/data_table.ipynb>data table notebook</a>'\n",
              "            + ' to learn more about interactive tables.';\n",
              "          element.innerHTML = '';\n",
              "          dataTable['output_type'] = 'display_data';\n",
              "          await google.colab.output.renderOutput(dataTable, element);\n",
              "          const docLink = document.createElement('div');\n",
              "          docLink.innerHTML = docLinkHtml;\n",
              "          element.appendChild(docLink);\n",
              "        }\n",
              "      </script>\n",
              "    </div>\n",
              "  </div>\n",
              "  "
            ],
            "text/plain": [
              "   age   sex     education  ...  hours-per-week income label\n",
              "0   30  Male  Some-college  ...              80   >50K     1\n",
              "1   69  Male       Masters  ...              25  <=50K     0\n",
              "2   49  Male       HS-grad  ...              48   >50K     1\n",
              "3   43  Male  Some-college  ...              40  <=50K     0\n",
              "4   42  Male       HS-grad  ...              50   >50K     1\n",
              "\n",
              "[5 rows x 10 columns]"
            ]
          },
          "metadata": {},
          "execution_count": 10
        }
      ]
    },
    {
      "cell_type": "markdown",
      "metadata": {
        "id": "ZmzNkVIJCkQC"
      },
      "source": [
        "### 3. Preparar los tamaños para el embedding\n",
        "\n",
        "Crear una variable \"cat_szs\" para mantener el número de categorías en cada variable.<br>\n",
        "Entonces crea una variable \"emb_szs\" para mantener la lista de tuplas (tamaño de la categoría, tamaño del embedding)."
      ]
    },
    {
      "cell_type": "code",
      "metadata": {
        "id": "OWkHnEEUCkQD",
        "colab": {
          "base_uri": "https://localhost:8080/"
        },
        "outputId": "17cddaab-fd5a-4809-9bdc-d98bc326fc80"
      },
      "source": [
        "\n",
        "cat_szs = [len(df[col].cat.categories) for col in cat_cols]\n",
        "emb_szs = [(size, min(50, (size+1)//2)) for size in cat_szs]\n",
        "emb_szs"
      ],
      "execution_count": 13,
      "outputs": [
        {
          "output_type": "execute_result",
          "data": {
            "text/plain": [
              "[(2, 1), (14, 7), (6, 3), (5, 3), (12, 6)]"
            ]
          },
          "metadata": {},
          "execution_count": 13
        }
      ]
    },
    {
      "cell_type": "markdown",
      "metadata": {
        "id": "jXadVDavCkQE"
      },
      "source": [
        "### 4. Creación de array de valores categóricos\n",
        "\n",
        "Creamos un arrayNumPy llamado \"cats\" que contiene el apilado (_stack_) de cada columna categórica<tt>.cat.codes.values</tt><br>\n",
        "Nota: La salidas pueden diferir en función de si se ha realizdo la mezcla de los registros especificada anterioormente. "
      ]
    },
    {
      "cell_type": "code",
      "metadata": {
        "id": "0jwxFFEQCkQF",
        "colab": {
          "base_uri": "https://localhost:8080/"
        },
        "outputId": "efa0964d-e94d-4a6a-fd35-e90a38b2a611"
      },
      "source": [
        "sx = df['sex'].cat.codes.values\n",
        "ed = df['education'].cat.codes.values\n",
        "ms = df['marital-status'].cat.codes.values\n",
        "wc = df['workclass'].cat.codes.values\n",
        "oc = df['occupation'].cat.codes.values\n",
        "\n",
        "cats = np.stack([sx,ed,ms,wc,oc], 1)\n",
        "\n",
        "cats[:5]"
      ],
      "execution_count": 14,
      "outputs": [
        {
          "output_type": "execute_result",
          "data": {
            "text/plain": [
              "array([[ 1, 13,  1,  2, 11],\n",
              "       [ 1, 11,  1,  2,  7],\n",
              "       [ 1, 10,  1,  2, 11],\n",
              "       [ 1, 13,  1,  2,  5],\n",
              "       [ 1, 10,  1,  2,  2]], dtype=int8)"
            ]
          },
          "metadata": {},
          "execution_count": 14
        }
      ]
    },
    {
      "cell_type": "markdown",
      "metadata": {
        "id": "NLgK7abfCkQF"
      },
      "source": [
        "### 5. Convertimos \"cats\"  a tensor\n",
        "Convert the \"cats\" NumPy array to a tensor of dtype <tt>int64</tt>"
      ]
    },
    {
      "cell_type": "code",
      "metadata": {
        "id": "lnKy57DKCkQG"
      },
      "source": [
        "cats = torch.tensor(cats, dtype=torch.int64)"
      ],
      "execution_count": 15,
      "outputs": []
    },
    {
      "cell_type": "markdown",
      "metadata": {
        "id": "ofWdJCEDCkQG"
      },
      "source": [
        "### 6. Creación de array de valores continuos\n"
      ]
    },
    {
      "cell_type": "code",
      "metadata": {
        "id": "2kFqI5LtCkQH",
        "colab": {
          "base_uri": "https://localhost:8080/"
        },
        "outputId": "1781a82e-88d5-4bf4-a090-a4181bccaa8f"
      },
      "source": [
        "conts = np.stack([df[col].values for col in cont_cols], 1)\n",
        "conts[:5]"
      ],
      "execution_count": 18,
      "outputs": [
        {
          "output_type": "execute_result",
          "data": {
            "text/plain": [
              "array([[30, 80],\n",
              "       [69, 25],\n",
              "       [49, 48],\n",
              "       [43, 40],\n",
              "       [42, 50]])"
            ]
          },
          "metadata": {},
          "execution_count": 18
        }
      ]
    },
    {
      "cell_type": "markdown",
      "metadata": {
        "id": "hg49S8jjCkQI"
      },
      "source": [
        "### 7. Conversión de numpy arrays a tensores\n",
        "Convertimos el array Numpy \"conts\"a tensor de dtype <tt>float32</tt>"
      ]
    },
    {
      "cell_type": "code",
      "metadata": {
        "id": "Mg3uPmuXCkQJ",
        "colab": {
          "base_uri": "https://localhost:8080/"
        },
        "outputId": "54774d7a-abc9-413a-a0f9-bea5b63afe2c"
      },
      "source": [
        "conts = torch.tensor(conts, dtype=torch.float)\n",
        "conts.dtype"
      ],
      "execution_count": 19,
      "outputs": [
        {
          "output_type": "execute_result",
          "data": {
            "text/plain": [
              "torch.float32"
            ]
          },
          "metadata": {},
          "execution_count": 19
        }
      ]
    },
    {
      "cell_type": "markdown",
      "metadata": {
        "id": "wab1jhBpCkQJ"
      },
      "source": [
        "### 8. Convertimos las etiquetas a tensor\n",
        "Creamos un tensor llamado \"y\" con los valores de la columna `label`. \n",
        "\n",
        "Es necesario extender el tensor para que pueda ser pasado a la función de Entropía cruzada que vamos a emplear."
      ]
    },
    {
      "cell_type": "code",
      "metadata": {
        "id": "bb_9TfiOCkQK"
      },
      "source": [
        "y = torch.tensor(df[y_col].values).flatten()"
      ],
      "execution_count": 20,
      "outputs": []
    },
    {
      "cell_type": "markdown",
      "metadata": {
        "id": "l-AAXGyZCkQK"
      },
      "source": [
        "### 9. Preparamos conjuntos de train/test\n",
        "\n",
        "Vamos a emplear un solo lote de 30000 registros. Lotes más pequeños ayudarán con un menor tiempo en el entrenamiento.<br> \n",
        "Para test vamos a emplear 5,000 registros, aunque se puede escoger cualquier otro valor o porcentaje del total del lote.<br>\n",
        "Hay que asegurar que el conjunto de test queda separado del de entrenamiento. <br>\n",
        "Por simplicidad en el código, vamos a llamar \"b\" (batch size) y \"t\" (test)."
      ]
    },
    {
      "cell_type": "code",
      "metadata": {
        "id": "Ua8xYD3BCkQL"
      },
      "source": [
        "b = 30000 # suggested batch size\n",
        "t = 5000  # suggested test size\n",
        "\n",
        "cat_train = cats[:b-t]\n",
        "cat_test  = cats[b-t:b]\n",
        "con_train = conts[:b-t]\n",
        "con_test  = conts[b-t:b]\n",
        "y_train   = y[:b-t]\n",
        "y_test    = y[b-t:b]"
      ],
      "execution_count": 21,
      "outputs": []
    },
    {
      "cell_type": "code",
      "metadata": {
        "colab": {
          "base_uri": "https://localhost:8080/"
        },
        "id": "uFOQEESRDD0n",
        "outputId": "007586fe-fdf3-434c-f6bc-f6e74cc99b83"
      },
      "source": [
        "len(cat_train)"
      ],
      "execution_count": 22,
      "outputs": [
        {
          "output_type": "execute_result",
          "data": {
            "text/plain": [
              "25000"
            ]
          },
          "metadata": {},
          "execution_count": 22
        }
      ]
    },
    {
      "cell_type": "markdown",
      "metadata": {
        "id": "sOTa6y1BCkQM"
      },
      "source": [
        "### Definiendo la clase del modelo\n"
      ]
    },
    {
      "cell_type": "code",
      "metadata": {
        "id": "gzpYmkEkCkQM"
      },
      "source": [
        "class TabularModel(nn.Module):\n",
        "\n",
        "    def __init__(self, emb_szs, n_cont, out_sz, layers, p=0.5):\n",
        "        super().__init__()\n",
        "        self.embeds = nn.ModuleList([nn.Embedding(ni, nf) for ni,nf in emb_szs])\n",
        "        self.emb_drop = nn.Dropout(p)\n",
        "        self.bn_cont = nn.BatchNorm1d(n_cont)\n",
        "        \n",
        "        layerlist = []\n",
        "               \n",
        "        n_emb = sum((nf for ni,nf in emb_szs))\n",
        "        n_in = n_emb + n_cont\n",
        "                \n",
        "        for i in layers:\n",
        "            layerlist.append(nn.Linear(n_in,i)) \n",
        "            layerlist.append(nn.ReLU(inplace=True))\n",
        "            layerlist.append(nn.BatchNorm1d(i))\n",
        "            layerlist.append(nn.Dropout(p))\n",
        "            n_in = i\n",
        "        layerlist.append(nn.Linear(layers[-1],out_sz))\n",
        "                \n",
        "        self.layers = nn.Sequential(*layerlist)\n",
        "    \n",
        "    def forward(self, x_cat, x_cont):\n",
        "        embeddings = []\n",
        "        for i,e in enumerate(self.embeds):\n",
        "            embeddings.append(e(x_cat[:,i]))\n",
        "        x = torch.cat(embeddings, 1)\n",
        "        x = self.emb_drop(x)\n",
        "        \n",
        "        x_cont = self.bn_cont(x_cont)\n",
        "        x = torch.cat([x, x_cont], 1)\n",
        "        \n",
        "        x = self.layers(x)\n",
        "        return x"
      ],
      "execution_count": 23,
      "outputs": []
    },
    {
      "cell_type": "markdown",
      "metadata": {
        "id": "pT0mmhD3CkQN"
      },
      "source": [
        "### 10. Configuramos la semilla del generador aleatorio\n",
        "\n",
        "Para obtener resultados reproducbles, establece una semilla de 33."
      ]
    },
    {
      "cell_type": "code",
      "metadata": {
        "id": "qjPnCoJaCkQW",
        "colab": {
          "base_uri": "https://localhost:8080/"
        },
        "outputId": "430bb60e-438d-43ee-a2c2-f9a55595b898"
      },
      "source": [
        "torch.manual_seed(33)"
      ],
      "execution_count": 24,
      "outputs": [
        {
          "output_type": "execute_result",
          "data": {
            "text/plain": [
              "<torch._C.Generator at 0x7f3649fc1a90>"
            ]
          },
          "metadata": {},
          "execution_count": 24
        }
      ]
    },
    {
      "cell_type": "markdown",
      "metadata": {
        "id": "_2IQFORZCkQW"
      },
      "source": [
        "### 11. Creamos la instancia de TabularModel \n",
        "Empieza por crear una instancia llamada `model` dcon una capa pculta de 50 neuronas y un factor de dropout de 0.4. "
      ]
    },
    {
      "cell_type": "code",
      "metadata": {
        "id": "SePXFV-6CkQX",
        "colab": {
          "base_uri": "https://localhost:8080/"
        },
        "outputId": "e121ce65-f19f-4f20-d05f-c9f61f73e2fd"
      },
      "source": [
        "model = TabularModel(emb_szs, conts.shape[1], 2, [50], p=0.4)\n",
        "model"
      ],
      "execution_count": 25,
      "outputs": [
        {
          "output_type": "execute_result",
          "data": {
            "text/plain": [
              "TabularModel(\n",
              "  (embeds): ModuleList(\n",
              "    (0): Embedding(2, 1)\n",
              "    (1): Embedding(14, 7)\n",
              "    (2): Embedding(6, 3)\n",
              "    (3): Embedding(5, 3)\n",
              "    (4): Embedding(12, 6)\n",
              "  )\n",
              "  (emb_drop): Dropout(p=0.4, inplace=False)\n",
              "  (bn_cont): BatchNorm1d(2, eps=1e-05, momentum=0.1, affine=True, track_running_stats=True)\n",
              "  (layers): Sequential(\n",
              "    (0): Linear(in_features=22, out_features=50, bias=True)\n",
              "    (1): ReLU(inplace=True)\n",
              "    (2): BatchNorm1d(50, eps=1e-05, momentum=0.1, affine=True, track_running_stats=True)\n",
              "    (3): Dropout(p=0.4, inplace=False)\n",
              "    (4): Linear(in_features=50, out_features=2, bias=True)\n",
              "  )\n",
              ")"
            ]
          },
          "metadata": {},
          "execution_count": 25
        }
      ]
    },
    {
      "cell_type": "markdown",
      "metadata": {
        "id": "MM2SOnTPCkQY"
      },
      "source": [
        "### 12. Definimos función de coste y optimización\n"
      ]
    },
    {
      "cell_type": "code",
      "metadata": {
        "id": "9Hib3mu5CkQY"
      },
      "source": [
        "criterion = nn.CrossEntropyLoss()\n",
        "optimizer = torch.optim.Adam(model.parameters(), lr=0.001)"
      ],
      "execution_count": 26,
      "outputs": []
    },
    {
      "cell_type": "markdown",
      "metadata": {
        "id": "D1izosiTCkQZ"
      },
      "source": [
        "### Entrenamiento\n",
        "Empieza por entrenar 300 epochs. \n",
        "Una vez terminado el ejercicio, puedes volver a reconfigurar parámetros y reentrenar el modelo para intentar mejores resultados."
      ]
    },
    {
      "cell_type": "code",
      "metadata": {
        "id": "NRIdsj4pCkQZ",
        "colab": {
          "base_uri": "https://localhost:8080/"
        },
        "outputId": "f1289ab4-c8f9-4863-d967-7e60e974564b"
      },
      "source": [
        "import time\n",
        "start_time = time.time()\n",
        "\n",
        "epochs = 300\n",
        "losses = []\n",
        "\n",
        "for i in range(epochs):\n",
        "    i+=1\n",
        "    y_pred = model(cat_train, con_train)\n",
        "    loss = criterion(y_pred, y_train)\n",
        "    losses.append(loss)\n",
        "    \n",
        "    # log:\n",
        "    if i%25 == 1:\n",
        "        print(f'epoch: {i:3}  loss: {loss.item():10.8f}')\n",
        "\n",
        "    optimizer.zero_grad()\n",
        "    loss.backward()\n",
        "    optimizer.step()\n",
        "\n",
        "print(f'epoch: {i:3}  loss: {loss.item():10.8f}') # print the last line\n",
        "print(f'\\nDuration: {time.time() - start_time:.0f} seconds') # print the time elapsed"
      ],
      "execution_count": 27,
      "outputs": [
        {
          "output_type": "stream",
          "name": "stdout",
          "text": [
            "epoch:   1  loss: 0.81729484\n",
            "epoch:  26  loss: 0.59144002\n",
            "epoch:  51  loss: 0.51526099\n",
            "epoch:  76  loss: 0.46367568\n",
            "epoch: 101  loss: 0.42921218\n",
            "epoch: 126  loss: 0.40582898\n",
            "epoch: 151  loss: 0.37860298\n",
            "epoch: 176  loss: 0.36160442\n",
            "epoch: 201  loss: 0.34847140\n",
            "epoch: 226  loss: 0.34284180\n",
            "epoch: 251  loss: 0.33054733\n",
            "epoch: 276  loss: 0.32291353\n",
            "epoch: 300  loss: 0.31962273\n",
            "\n",
            "Duration: 17 seconds\n"
          ]
        }
      ]
    },
    {
      "cell_type": "markdown",
      "metadata": {
        "id": "t_K9W9J_CkQZ"
      },
      "source": [
        "### 13. Visualizamos la función de error \n"
      ]
    },
    {
      "cell_type": "code",
      "metadata": {
        "scrolled": true,
        "id": "HquYb1NCCkQa",
        "colab": {
          "base_uri": "https://localhost:8080/",
          "height": 279
        },
        "outputId": "32e17f83-ad10-4570-b66e-9fe89679807b"
      },
      "source": [
        "plt.plot(range(epochs), losses)\n",
        "plt.ylabel('Cross Entropy Loss')\n",
        "plt.xlabel('epoch');"
      ],
      "execution_count": 28,
      "outputs": [
        {
          "output_type": "display_data",
          "data": {
            "image/png": "[encoded data removed]",
            "text/plain": [
              "<Figure size 432x288 with 1 Axes>"
            ]
          },
          "metadata": {
            "needs_background": "light"
          }
        }
      ]
    },
    {
      "cell_type": "markdown",
      "metadata": {
        "id": "n18zDIrECkQb"
      },
      "source": [
        "### 14. Validamos el modelo\n",
        "Ahora vamos a lanzar el modelo con el conjunto de test y a comparar los resultados con las etiquetas conocidas. \n",
        "\n",
        "Dado que en este paso no es necesario actualizar pesos ni biases, no es necesario emplear la función autograd, por lo que ponemos <tt>torch.no_grad()</tt> y evitamos cálculos (y tiempo ) innecesario."
      ]
    },
    {
      "cell_type": "code",
      "metadata": {
        "id": "ZiVcnCBPCkQc",
        "colab": {
          "base_uri": "https://localhost:8080/"
        },
        "outputId": "c4eea5cb-8623-48d8-90f3-5e5e0379568e"
      },
      "source": [
        "with torch.no_grad():\n",
        "    y_val = model(cat_test, con_test)\n",
        "    loss = criterion(y_val, y_test)\n",
        "print(f'CE Loss: {loss:.8f}')"
      ],
      "execution_count": 29,
      "outputs": [
        {
          "output_type": "stream",
          "name": "stdout",
          "text": [
            "CE Loss: 0.32198715\n"
          ]
        }
      ]
    },
    {
      "cell_type": "markdown",
      "metadata": {
        "id": "MierELoACkQc"
      },
      "source": [
        "### 15. Calculamos el acierto total\n",
        "Usando un bucle for, comparamos el valor más alto de las dos salidas <tt>y_val</tt> con cada <tt>y_test</tt>"
      ]
    },
    {
      "cell_type": "code",
      "metadata": {
        "id": "3VLj2oxACkQd",
        "colab": {
          "base_uri": "https://localhost:8080/"
        },
        "outputId": "d14ec64c-ad0f-417d-b955-6153979dcaf1"
      },
      "source": [
        "rows = len(y_test)\n",
        "correct = 0\n",
        "\n",
        "# print(f'{\"MODEL OUTPUT\":26} ARGMAX  Y_TEST')\n",
        "\n",
        "for i in range(rows):\n",
        "    # print(f'{str(y_val[i]):26} {y_val[i].argmax().item():^7}{y_test[i]:^7}')\n",
        "\n",
        "    if y_val[i].argmax().item() == y_test[i]:\n",
        "        correct += 1\n",
        "\n",
        "print(y_val[i])\n",
        "print(f'\\n{correct} out of {rows} = {100*correct/rows:.2f}% correct')"
      ],
      "execution_count": 30,
      "outputs": [
        {
          "output_type": "stream",
          "name": "stdout",
          "text": [
            "tensor([-1.5150,  1.2054])\n",
            "\n",
            "4274 out of 5000 = 85.48% correct\n"
          ]
        }
      ]
    },
    {
      "cell_type": "markdown",
      "metadata": {
        "id": "dS4WbINvCkQd"
      },
      "source": [
        "### BONUS: Introduce nuevos datos al modelo\n",
        "\n",
        "De forma similar a los ejercicios anteriores, podemos escribir una función que permita al usuario introducir datos de un individuo y generar una predicción.\n",
        "\n"
      ]
    },
    {
      "cell_type": "code",
      "metadata": {
        "id": "49BEQ6C2CkQe"
      },
      "source": [
        "def test_data(mdl): # pasamos el nombre del modelo\n",
        "    # Entrada de datos\n",
        "    age = float(input(\"Introduce edad (18-90)  \"))\n",
        "    sex = input(\"Introduce sexo (Male/Female) \").capitalize()\n",
        "    edn = int(input(\"Introduce nivel educativo (3-16) \"))\n",
        "    mar = input(\"Introduce estado civil \").capitalize()\n",
        "    wrk = input(\"Introduce tipo de régimen laboral\").capitalize()\n",
        "    occ = input(\"Introduce ocupación \").capitalize()\n",
        "    hrs = float(input(\"¿Cuantas horas trabaja a la semana? (20-90)  \"))\n",
        "\n",
        "    # Preprocesado \n",
        "    sex_d = {'Female':0, 'Male':1}\n",
        "    mar_d = {'Divorced':0, 'Married':1, 'Married-spouse-absent':2, 'Never-married':3, 'Separated':4, 'Widowed':5}\n",
        "    wrk_d = {'Federal-gov':0, 'Local-gov':1, 'Private':2, 'Self-emp':3, 'State-gov':4}\n",
        "    occ_d = {'Adm-clerical':0, 'Craft-repair':1, 'Exec-managerial':2, 'Farming-fishing':3, 'Handlers-cleaners':4,\n",
        "            'Machine-op-inspct':5, 'Other-service':6, 'Prof-specialty':7, 'Protective-serv':8, 'Sales':9, \n",
        "            'Tech-support':10, 'Transport-moving':11}\n",
        "\n",
        "    sex = sex_d[sex]\n",
        "    mar = mar_d[mar]\n",
        "    wrk = wrk_d[wrk]\n",
        "    occ = occ_d[occ]\n",
        "\n",
        "    # Creamos tensores\n",
        "    cats = torch.tensor([sex,edn,mar,wrk,occ], dtype=torch.int64).reshape(1,-1)\n",
        "    conts = torch.tensor([age,hrs], dtype=torch.float).reshape(1,-1)\n",
        "    \n",
        "    # Activamos el modeo evaluación. Sin esto no funciona\n",
        "    mdl.eval()\n",
        "\n",
        "    # Pasamos los nuevos datos al modelo. Sin backpropagation\n",
        "    with torch.no_grad():\n",
        "        #z = mdl(cats, conts).argmax().item()  \n",
        "        z = mdl(cats, conts)\n",
        "        p = z.argmax().item()\n",
        "\n",
        "    print(f'\\nLa etiqueta predicha es {p}')\n"
      ],
      "execution_count": 36,
      "outputs": []
    },
    {
      "cell_type": "code",
      "metadata": {
        "id": "zSL6muIJJK-Y",
        "colab": {
          "base_uri": "https://localhost:8080/"
        },
        "outputId": "d2bec308-89a2-4556-8460-3dfa1ddbf2c7"
      },
      "source": [
        "# Nuevos datos\n",
        "test_data(model)"
      ],
      "execution_count": 37,
      "outputs": [
        {
          "output_type": "stream",
          "name": "stdout",
          "text": [
            "Introduce edad (18-90)  50\n",
            "Introduce sexo (Male/Female) Male\n",
            "Introduce nivel educativo (3-16) 10\n",
            "Introduce estado civil Married\n",
            "Introduce tipo de régimen laboralPrivate\n",
            "Introduce ocupación Transport-moving\n",
            "¿Cuantas horas trabaja a la semana? (20-90)  40\n",
            "\n",
            "La etiqueta predicha es 1\n"
          ]
        }
      ]
    },
    {
      "cell_type": "markdown",
      "metadata": {
        "id": "vKKxpDmpwctt"
      },
      "source": [
        "##Sugerencias para practicar\n",
        "\n",
        "Intenta obtener mejores resultados. Para ello puedes probar cambiar algunos de los parámetros que hemos configurado a lo largo del Notebook: \n",
        "\n",
        "* Nº de neuronas por capas\n",
        "* Tamaño de lote\n",
        "* Nº de epochs de entrenamiento\n",
        "* Tasa de aprendizaje\n",
        "* Cantidad de capas ocultas. Esto es **deep learning!** añade nuevas capas\n",
        "\n",
        "\n",
        "Y no olvides guardar el modelo (pesos y biases entrenados) cuando obtengas unos resultados adecuados. "
      ]
    },
    {
      "cell_type": "markdown",
      "metadata": {
        "id": "n2QOf-HEltUP"
      },
      "source": [
        "## Fin del Notebook\n",
        "\n",
        "Referencias y modelos empleados para el Notebook: \n",
        "\n",
        "*   Documentación de [Pytorch](https://pytorch.org/docs/stable/index.html) \n",
        "*   [PyTorch Tutorial for Deep Learning Researchers](https://github.com/yunjey/pytorch-tutorial) by Yunjey Choi\n",
        "*   [FastAI](https://www.fast.ai/) development notebooks by Jeremy Howard.\n",
        "*   Documentación y cursos en [Pierian Data](https://www.pieriandata.com/)\n",
        "*   Tutoriales y notebooks del curso \"Deep Learning with Pytorch: Zero to GANs\" de [Aakash N S](https://jovian.ai/aakashns)\n",
        "* [A visual proof that neural networks can compute any function](http://neuralnetworksanddeeplearning.com/chap4.html), también conocido como Teorema de Aproximación Universal\n",
        "* [But what *is* a neural network?](https://www.youtube.com/watch?v=aircAruvnKk) - Una introducción muy intuitiva a lo que son las redes neuronales y lo que implican las capas ocultas."
      ]
    }
  ]
}