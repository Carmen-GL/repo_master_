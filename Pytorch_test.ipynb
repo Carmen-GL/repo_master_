{
  "nbformat": 4,
  "nbformat_minor": 0,
  "metadata": {
    "colab": {
      "name": "Pytorch_test.ipynb",
      "provenance": [],
      "collapsed_sections": [],
      "authorship_tag": "ABX9TyOUZK1hs354DU+zazNDiG37",
      "include_colab_link": true
    },
    "kernelspec": {
      "name": "python3",
      "display_name": "Python 3"
    },
    "language_info": {
      "name": "python"
    }
  },
  "cells": [
    {
      "cell_type": "markdown",
      "metadata": {
        "id": "view-in-github",
        "colab_type": "text"
      },
      "source": [
        "<a href=\"https://colab.research.google.com/github/Carmen-GL/repo_master_/blob/main/Pytorch_test.ipynb\" target=\"_parent\"><img src=\"https://colab.research.google.com/assets/colab-badge.svg\" alt=\"Open In Colab\"/></a>"
      ]
    },
    {
      "cell_type": "markdown",
      "source": [
        "Aprendizaje profundo II"
      ],
      "metadata": {
        "id": "yVNp-zRwjkvZ"
      }
    },
    {
      "cell_type": "code",
      "source": [
        "import numpy as np\n",
        "\n",
        "import torch\n",
        "import torch.nn as nn\n",
        "import torch.optim as optim\n",
        "from torch.utils.data import Dataset, DataLoader"
      ],
      "metadata": {
        "id": "C4eaCP0mUxqP"
      },
      "execution_count": 2,
      "outputs": []
    },
    {
      "cell_type": "code",
      "source": [
        "input_1d = torch.tensor([1,2,3,4,5,6,7,8,9,10], dtype = torch.float)\n",
        "\n",
        "input_2d = torch.tensor ([[1,2,3,4,5], [6,7,8,9,10]], dtype = torch.float)\n",
        "\n",
        "input_2d_img = torch.tensor([[[1,2,3,4,5,6,7,8,9,10],[1,2,3,4,5,6,7,8,9,10],[1,2,3,4,5,6,7,8,9,10]],[[1,2,3,4,5,6,7,8,9,10],[1,2,3,4,5,6,7,8,9,10],[1,2,3,4,5,6,7,8,9,10]],[[1,2,3,4,5,6,7,8,9,10],[1,2,3,4,5,6,7,8,9,10],[1,2,3,4,5,6,7,8,9,10]]], dtype = torch.float)"
      ],
      "metadata": {
        "id": "eOhR7ERRVJkY"
      },
      "execution_count": 15,
      "outputs": []
    },
    {
      "cell_type": "code",
      "source": [
        "input_1d = input_1d.unsqueeze(0).unsqueeze(0)\n",
        "input_1d.shape"
      ],
      "metadata": {
        "colab": {
          "base_uri": "https://localhost:8080/"
        },
        "id": "BooTb4VwWZPG",
        "outputId": "cb551129-b78e-4ab7-ee2b-91ddfa6f6a69"
      },
      "execution_count": 4,
      "outputs": [
        {
          "output_type": "execute_result",
          "data": {
            "text/plain": [
              "torch.Size([1, 1, 10])"
            ]
          },
          "metadata": {},
          "execution_count": 4
        }
      ]
    },
    {
      "cell_type": "code",
      "source": [
        "cnn1d_1 = nn.Conv1d(in_channels=1, out_channels=1, kernel_size=3, stride=1)\n",
        "\n",
        "print(\"cnn1d_1: \\n\")\n",
        "print(cnn1d_1(input_1d).shape, \"\\n\")\n",
        "print(cnn1d_1(input_1d))"
      ],
      "metadata": {
        "colab": {
          "base_uri": "https://localhost:8080/"
        },
        "id": "QYMJ_pLGWvYQ",
        "outputId": "ba7bb4a2-1e56-4cbf-a917-f919f4290ff5"
      },
      "execution_count": 5,
      "outputs": [
        {
          "output_type": "stream",
          "name": "stdout",
          "text": [
            "cnn1d_1: \n",
            "\n",
            "torch.Size([1, 1, 8]) \n",
            "\n",
            "tensor([[[1.5256, 1.6807, 1.8358, 1.9908, 2.1459, 2.3009, 2.4560, 2.6111]]],\n",
            "       grad_fn=<SqueezeBackward1>)\n"
          ]
        }
      ]
    },
    {
      "cell_type": "code",
      "source": [
        "input_2d = input_2d.unsqueeze(0)\n",
        "input_2d.shape"
      ],
      "metadata": {
        "colab": {
          "base_uri": "https://localhost:8080/"
        },
        "id": "aTqroHOqZ75A",
        "outputId": "5dbdb0ff-229d-487d-9dec-4aa71bef9432"
      },
      "execution_count": 6,
      "outputs": [
        {
          "output_type": "execute_result",
          "data": {
            "text/plain": [
              "torch.Size([1, 2, 5])"
            ]
          },
          "metadata": {},
          "execution_count": 6
        }
      ]
    },
    {
      "cell_type": "code",
      "source": [
        "cnn1d_5 = nn.Conv1d(in_channels=2, out_channels=1, kernel_size=3, stride=1)\n",
        "\n",
        "print(\"cnn1d_5: \\n\")\n",
        "print(cnn1d_5(input_2d).shape, \"\\n\")\n",
        "print(cnn1d_5(input_2d))"
      ],
      "metadata": {
        "colab": {
          "base_uri": "https://localhost:8080/"
        },
        "id": "yk2IiQSpaIgz",
        "outputId": "2a21bb20-b959-41a5-ad83-0d87d4ba841b"
      },
      "execution_count": 7,
      "outputs": [
        {
          "output_type": "stream",
          "name": "stdout",
          "text": [
            "cnn1d_5: \n",
            "\n",
            "torch.Size([1, 1, 3]) \n",
            "\n",
            "tensor([[[-1.3460, -1.4862, -1.6263]]], grad_fn=<SqueezeBackward1>)\n"
          ]
        }
      ]
    },
    {
      "cell_type": "code",
      "source": [
        "cnn1d_6 = nn.Conv1d(in_channels=2, out_channels=1, kernel_size=3, stride=2)\n",
        "\n",
        "print(\"cnn1d_6: \\n\")\n",
        "print(cnn1d_6(input_2d).shape, \"\\n\")\n",
        "print(cnn1d_6(input_2d))"
      ],
      "metadata": {
        "colab": {
          "base_uri": "https://localhost:8080/"
        },
        "id": "yJOovCtLbsxu",
        "outputId": "7f61bb27-8825-4bdc-e5ce-57715878bf1f"
      },
      "execution_count": 8,
      "outputs": [
        {
          "output_type": "stream",
          "name": "stdout",
          "text": [
            "cnn1d_6: \n",
            "\n",
            "torch.Size([1, 1, 2]) \n",
            "\n",
            "tensor([[[1.1327, 1.1349]]], grad_fn=<SqueezeBackward1>)\n"
          ]
        }
      ]
    },
    {
      "cell_type": "code",
      "source": [
        "cnn1d_7 = nn.Conv1d(in_channels=2, out_channels=1, kernel_size=2, stride=1)\n",
        "\n",
        "print(\"cnn1d_7: \\n\")\n",
        "print(cnn1d_7(input_2d).shape, \"\\n\")\n",
        "print(cnn1d_7(input_2d))"
      ],
      "metadata": {
        "colab": {
          "base_uri": "https://localhost:8080/"
        },
        "id": "Yg9Xb0sRb8Kf",
        "outputId": "aebd19b4-bc85-471e-e13e-88de27dd3947"
      },
      "execution_count": 9,
      "outputs": [
        {
          "output_type": "stream",
          "name": "stdout",
          "text": [
            "cnn1d_7: \n",
            "\n",
            "torch.Size([1, 1, 4]) \n",
            "\n",
            "tensor([[[-1.1569, -1.4933, -1.8297, -2.1662]]], grad_fn=<SqueezeBackward1>)\n"
          ]
        }
      ]
    },
    {
      "cell_type": "code",
      "source": [
        "cnn1d_8 = nn.Conv1d(in_channels=2, out_channels=5, kernel_size=3, stride=1)\n",
        "\n",
        "print(\"cnn1d_8: \\n\")\n",
        "print(cnn1d_8(input_2d).shape, \"\\n\")\n",
        "print(cnn1d_8(input_2d))"
      ],
      "metadata": {
        "colab": {
          "base_uri": "https://localhost:8080/"
        },
        "id": "XDy9113icDbh",
        "outputId": "960dd808-2477-444c-e9c3-09945f74561b"
      },
      "execution_count": 10,
      "outputs": [
        {
          "output_type": "stream",
          "name": "stdout",
          "text": [
            "cnn1d_8: \n",
            "\n",
            "torch.Size([1, 5, 3]) \n",
            "\n",
            "tensor([[[ 2.8810,  3.7291,  4.5772],\n",
            "         [ 1.3156,  1.9608,  2.6060],\n",
            "         [ 1.4221,  1.3815,  1.3409],\n",
            "         [-1.2869, -1.9070, -2.5270],\n",
            "         [-6.3529, -6.7652, -7.1776]]], grad_fn=<SqueezeBackward1>)\n"
          ]
        }
      ]
    },
    {
      "cell_type": "code",
      "source": [
        "cnn1d_9 = nn.Conv1d(in_channels=2, out_channels=1, kernel_size=3, stride=1, padding=1)\n",
        "\n",
        "print(\"cnn1d_9: \\n\")\n",
        "print(cnn1d_9(input_2d).shape, \"\\n\")\n",
        "print(cnn1d_9(input_2d))"
      ],
      "metadata": {
        "colab": {
          "base_uri": "https://localhost:8080/"
        },
        "id": "zUEuMwJ3cM8c",
        "outputId": "7a981e02-7c1d-422e-a2ed-31ad8b60b37a"
      },
      "execution_count": 11,
      "outputs": [
        {
          "output_type": "stream",
          "name": "stdout",
          "text": [
            "cnn1d_9: \n",
            "\n",
            "torch.Size([1, 1, 5]) \n",
            "\n",
            "tensor([[[-1.7969, -2.1531, -2.7992, -3.4452, -1.5824]]],\n",
            "       grad_fn=<SqueezeBackward1>)\n"
          ]
        }
      ]
    },
    {
      "cell_type": "markdown",
      "source": [
        "CONVOLUCIONES 2D"
      ],
      "metadata": {
        "id": "4qgdU6wNfpWa"
      }
    },
    {
      "cell_type": "code",
      "source": [
        "input_2d_img = input_2d_img.unsqueeze(0)\n",
        "input_2d_img.shape"
      ],
      "metadata": {
        "colab": {
          "base_uri": "https://localhost:8080/"
        },
        "id": "N3laOR44f_qz",
        "outputId": "1f997032-d92b-4137-e93e-423d7e1d6e90"
      },
      "execution_count": 16,
      "outputs": [
        {
          "output_type": "execute_result",
          "data": {
            "text/plain": [
              "torch.Size([1, 3, 3, 10])"
            ]
          },
          "metadata": {},
          "execution_count": 16
        }
      ]
    },
    {
      "cell_type": "markdown",
      "source": [
        "Cambiar stride"
      ],
      "metadata": {
        "id": "qen5RYMMit_J"
      }
    },
    {
      "cell_type": "code",
      "source": [
        "cnn2d_2 = nn.Conv2d(in_channels=3, out_channels=1, kernel_size=3, stride=2)\n",
        "\n",
        "print(\"cnn2d_2: \\n\")\n",
        "print(cnn2d_2(input_2d_img).shape, \"\\n\")\n",
        "print(cnn2d_2(input_2d_img))"
      ],
      "metadata": {
        "colab": {
          "base_uri": "https://localhost:8080/"
        },
        "id": "fFAUAR-3iTPN",
        "outputId": "12f90f6b-7d44-4d83-cb43-f773de7644b1"
      },
      "execution_count": 20,
      "outputs": [
        {
          "output_type": "stream",
          "name": "stdout",
          "text": [
            "cnn2d_2: \n",
            "\n",
            "torch.Size([1, 1, 1, 4]) \n",
            "\n",
            "tensor([[[[-0.0667, -0.3332, -0.5997, -0.8662]]]],\n",
            "       grad_fn=<ThnnConv2DBackward0>)\n"
          ]
        }
      ]
    },
    {
      "cell_type": "markdown",
      "source": [
        "Cambiar kernel size"
      ],
      "metadata": {
        "id": "-6V5foRZiw7W"
      }
    },
    {
      "cell_type": "code",
      "source": [
        "cnn2d_3 = nn.Conv2d(in_channels=3, out_channels=1, kernel_size=2, stride=1)\n",
        "\n",
        "print(\"cnn2d_3: \\n\")\n",
        "print(cnn2d_3(input_2d_img).shape, \"\\n\")\n",
        "print(cnn2d_3(input_2d_img))"
      ],
      "metadata": {
        "colab": {
          "base_uri": "https://localhost:8080/"
        },
        "id": "tOIVCBSqijbE",
        "outputId": "0a3cde6a-db7b-428b-bb35-729c4d7a4f68"
      },
      "execution_count": 22,
      "outputs": [
        {
          "output_type": "stream",
          "name": "stdout",
          "text": [
            "cnn2d_3: \n",
            "\n",
            "torch.Size([1, 1, 2, 9]) \n",
            "\n",
            "tensor([[[[-1.1044, -1.8842, -2.6640, -3.4438, -4.2236, -5.0033, -5.7831,\n",
            "           -6.5629, -7.3427],\n",
            "          [-1.1044, -1.8842, -2.6640, -3.4438, -4.2236, -5.0033, -5.7831,\n",
            "           -6.5629, -7.3427]]]], grad_fn=<ThnnConv2DBackward0>)\n"
          ]
        }
      ]
    },
    {
      "cell_type": "markdown",
      "source": [
        "Cambiar out_channels"
      ],
      "metadata": {
        "id": "2kjzRhGOi7z1"
      }
    },
    {
      "cell_type": "code",
      "source": [
        "cnn2d_4 = nn.Conv2d(in_channels=3, out_channels=5, kernel_size=3, stride=1)\n",
        "\n",
        "print(\"cnn2d_4: \\n\")\n",
        "print(cnn2d_4(input_2d_img).shape, \"\\n\")\n",
        "print(cnn2d_4(input_2d_img))"
      ],
      "metadata": {
        "colab": {
          "base_uri": "https://localhost:8080/"
        },
        "id": "DAmeVnlqiz9z",
        "outputId": "749730dd-196f-48bc-82a7-a3e3614fccc5"
      },
      "execution_count": 23,
      "outputs": [
        {
          "output_type": "stream",
          "name": "stdout",
          "text": [
            "cnn2d_4: \n",
            "\n",
            "torch.Size([1, 5, 1, 8]) \n",
            "\n",
            "tensor([[[[ 2.5573,  3.8537,  5.1501,  6.4465,  7.7430,  9.0394, 10.3358,\n",
            "           11.6322]],\n",
            "\n",
            "         [[ 0.8796,  1.5493,  2.2190,  2.8887,  3.5584,  4.2281,  4.8978,\n",
            "            5.5675]],\n",
            "\n",
            "         [[-0.5115, -0.9352, -1.3589, -1.7826, -2.2063, -2.6300, -3.0538,\n",
            "           -3.4775]],\n",
            "\n",
            "         [[ 1.1027,  1.5288,  1.9549,  2.3811,  2.8072,  3.2333,  3.6594,\n",
            "            4.0855]],\n",
            "\n",
            "         [[ 1.0794,  1.5667,  2.0540,  2.5413,  3.0286,  3.5160,  4.0033,\n",
            "            4.4906]]]], grad_fn=<ThnnConv2DBackward0>)\n"
          ]
        }
      ]
    },
    {
      "cell_type": "markdown",
      "source": [
        "Añadir padding"
      ],
      "metadata": {
        "id": "Q0lmS6ujjObu"
      }
    },
    {
      "cell_type": "code",
      "source": [
        "cnn2d_5 = nn.Conv2d(in_channels=3, out_channels=1, kernel_size=3, stride=1, padding=1)\n",
        "\n",
        "print(\"cnn2d_5: \\n\")\n",
        "print(cnn2d_5(input_2d_img).shape, \"\\n\")\n",
        "print(cnn2d_5(input_2d_img))"
      ],
      "metadata": {
        "colab": {
          "base_uri": "https://localhost:8080/"
        },
        "id": "oeosP85sjCCr",
        "outputId": "90475678-763d-49ed-ae66-4daa4900b07a"
      },
      "execution_count": 25,
      "outputs": [
        {
          "output_type": "stream",
          "name": "stdout",
          "text": [
            "cnn2d_5: \n",
            "\n",
            "torch.Size([1, 1, 3, 10]) \n",
            "\n",
            "tensor([[[[-0.1099, -0.1018, -0.0937, -0.0856, -0.0776, -0.0695, -0.0614,\n",
            "           -0.0533, -0.0452,  0.0311],\n",
            "          [ 0.0751,  0.2347,  0.3944,  0.5541,  0.7137,  0.8734,  1.0331,\n",
            "            1.1928,  1.3524,  2.4368],\n",
            "          [-0.1212, -0.1070, -0.0929, -0.0788, -0.0646, -0.0505, -0.0363,\n",
            "           -0.0222, -0.0080,  2.8160]]]], grad_fn=<ThnnConv2DBackward0>)\n"
          ]
        }
      ]
    }
  ]
}